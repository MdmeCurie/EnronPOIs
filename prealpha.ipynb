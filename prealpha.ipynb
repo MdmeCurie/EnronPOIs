{
 "cells": [
  {
   "cell_type": "code",
   "execution_count": 5,
   "metadata": {
    "collapsed": true
   },
   "outputs": [],
   "source": [
    "%matplotlib inline"
   ]
  },
  {
   "cell_type": "code",
   "execution_count": 26,
   "metadata": {
    "collapsed": false
   },
   "outputs": [],
   "source": [
    "# %load poi_id.py\n",
    "#!/usr/bin/python\n",
    "\n",
    "import sys\n",
    "import pickle\n",
    "sys.path.append(\"../tools/\")\n",
    "\n",
    "from feature_format import featureFormat, targetFeatureSplit\n",
    "from tester import dump_classifier_and_data\n",
    "\n",
    "### Task 1: Select what features you'll use.\n",
    "### features_list is a list of strings, each of which is a feature name.\n",
    "### The first feature must be \"poi\". # You will need to use more features\n",
    "##### 'email_address' fails featureFormat() as it is string not float, all other features imported for \n",
    "##### initial testing and investigations\n",
    "features_list = ['poi', 'salary', 'bonus','deferral_payments','total_payments',  \n",
    "                 'exercised_stock_options','restricted_stock','total_stock_value',\n",
    "                 'expenses','deferred_income',\n",
    "                 'long_term_incentive', 'other',\n",
    "                 'restricted_stock_deferred', 'loan_advances', 'director_fees', \n",
    "                 'to_messages', 'shared_receipt_with_poi','from_messages',      \n",
    "                 'from_this_person_to_poi', 'from_poi_to_this_person'             \n",
    "                ] \n",
    "\n",
    "### Load the dictionary containing the dataset\n",
    "with open(\"final_project_dataset.pkl\", \"r\") as data_file:\n",
    "    data_dict = pickle.load(data_file)\n",
    "\n",
    "### Task 2: Remove outliers - remove TOTAL from financials    \n",
    "total_financials = data_dict.pop('TOTAL')\n",
    "### Negative outliers found in deferred_income and restricted stock deferred\n",
    "### Entries for 'BELFER ROBERT' & 'BHATANGAR SANJAY' corrected as confirmed by enron61702insiderpay.pdf\n",
    "\n",
    "data_dict['BELFER ROBERT']['deferred_income']  = -102500\n",
    "data_dict['BELFER ROBERT']['deferral_payments']= 'NaN'\n",
    "data_dict['BELFER ROBERT']['expenses'] = 3285\n",
    "data_dict['BELFER ROBERT']['director_fees'] = 102500 \n",
    "data_dict['BELFER ROBERT']['total_payments'] = 3285\n",
    "data_dict['BELFER ROBERT']['exercised_stock_options']= 'NaN'\n",
    "data_dict['BELFER ROBERT']['restricted_stock']= 44093\n",
    "data_dict['BELFER ROBERT']['restricted_stock_deferred']= -44093\n",
    "data_dict['BELFER ROBERT']['total_stock_value'] = 'NaN'\n",
    "\n",
    "data_dict['BHATNAGAR SANJAY']['other']= 'NaN' \n",
    "data_dict['BHATNAGAR SANJAY']['expenses']= 137864\n",
    "data_dict['BHATNAGAR SANJAY']['director_fees']= 'NaN'\n",
    "data_dict['BHATNAGAR SANJAY']['total_payments']= 137864\n",
    "data_dict['BHATNAGAR SANJAY']['exercised_stock_options']= 15456290 \n",
    "data_dict['BHATNAGAR SANJAY']['restricted_stock']= 2604490\n",
    "data_dict['BHATNAGAR SANJAY']['restricted_stock_deferred']= -2604490\n",
    "data_dict['BHATNAGAR SANJAY']['total_stock_value']= 15456290\n",
    "\n",
    "### Split data to labels and features from array used after feature scaling with function\n",
    "#data = featureFormat(data_dict, features_list, sort_keys = True)\n",
    "#labels, features = targetFeatureSplit(data)\n"
   ]
  },
  {
   "cell_type": "code",
   "execution_count": 19,
   "metadata": {
    "collapsed": false
   },
   "outputs": [
    {
     "name": "stdout",
     "output_type": "stream",
     "text": [
      "poi 145  entries poi:   18 127 12.4137931034\n",
      "salary 94  entries poi:   17 77 18.085106383\n",
      "bonus 81  entries poi:   16 65 19.7530864198\n",
      "deferral_payments 37  entries poi:   5 32 13.5135135135\n",
      "total_payments 124  entries poi:   18 106 14.5161290323\n",
      "exercised_stock_options 100  entries poi:   12 88 12.0\n",
      "restricted_stock 110  entries poi:   17 93 15.4545454545\n",
      "total_stock_value 125  entries poi:   18 107 14.4\n",
      "expenses 96  entries poi:   18 78 18.75\n",
      "deferred_income 49  entries poi:   11 38 22.4489795918\n",
      "long_term_incentive 65  entries poi:   12 53 18.4615384615\n",
      "other 91  entries poi:   18 73 19.7802197802\n",
      "to_messages 86  entries poi:   14 72 16.2790697674\n",
      "shared_receipt_with_poi 86  entries poi:   14 72 16.2790697674\n",
      "from_messages 86  entries poi:   14 72 16.2790697674\n",
      "from_this_person_to_poi 86  entries poi:   14 72 16.2790697674\n",
      "from_poi_to_this_person 86  entries poi:   14 72 16.2790697674\n",
      "deferred_income 49  Neg values exist\n"
     ]
    }
   ],
   "source": [
    "#Cursory look at feature values, numbers and negative values\n",
    "from __future__ import division\n",
    "for items in features_list:\n",
    "    value_exists = 0\n",
    "    pos_poi = 0\n",
    "    neg_poi = 0 \n",
    "    for names in data_dict:\n",
    "        if data_dict[names][items] != \"NaN\":\n",
    "            value_exists = value_exists + 1\n",
    "            if data_dict[names]['poi'] == 1:\n",
    "                pos_poi = pos_poi+1\n",
    "            else:    neg_poi = neg_poi+1\n",
    "    print items, value_exists, \" entries poi:  \",pos_poi, neg_poi, (pos_poi/value_exists)*100.0\n",
    "    \n",
    "for items in features_list:\n",
    "    neg_value = 0 \n",
    "    for names in data_dict:\n",
    "        if data_dict[names][items] != \"NaN\" and data_dict[names][items] <0:\n",
    "            neg_value = neg_value + 1\n",
    "    if neg_value >0:\n",
    "        print items, neg_value, \" Neg values exist\"\n",
    "\n"
   ]
  },
  {
   "cell_type": "code",
   "execution_count": 420,
   "metadata": {
    "collapsed": false
   },
   "outputs": [
    {
     "name": "stdout",
     "output_type": "stream",
     "text": [
      "145 19 20\n",
      "[0.0, 0.0, 0.0, 0.0, 0.0, 0.0, 0.0, 1.0, 0.0, 0.0, 0.0, 0.0, 0.0, 0.0, 0.0, 1.0, 0.0, 0.0, 0.0, 0.0, 1.0, 0.0, 1.0, 0.0, 0.0, 0.0, 1.0, 0.0, 0.0, 0.0, 0.0, 1.0, 0.0, 0.0, 0.0, 0.0, 0.0, 0.0, 0.0, 0.0, 0.0, 0.0, 0.0, 1.0, 0.0, 0.0, 0.0, 0.0, 0.0, 0.0, 0.0, 0.0, 0.0, 0.0, 1.0, 0.0, 0.0, 0.0, 0.0, 1.0, 0.0, 0.0, 0.0, 0.0, 0.0, 1.0, 0.0, 0.0, 0.0, 0.0, 0.0, 0.0, 0.0, 0.0, 0.0, 0.0, 1.0, 1.0, 0.0, 1.0, 0.0, 0.0, 0.0, 0.0, 0.0, 0.0, 0.0, 0.0, 0.0, 0.0, 0.0, 0.0, 0.0, 0.0, 0.0, 0.0, 0.0, 0.0, 0.0, 0.0, 0.0, 0.0, 0.0, 0.0, 0.0, 0.0, 0.0, 0.0, 0.0, 0.0, 0.0, 0.0, 1.0, 1.0, 0.0, 0.0, 0.0, 0.0, 0.0, 1.0, 0.0, 0.0, 1.0, 0.0, 0.0, 0.0, 0.0, 0.0, 0.0, 0.0, 0.0, 0.0, 0.0, 0.0, 0.0, 0.0, 0.0, 0.0, 0.0, 0.0, 0.0, 0.0, 0.0, 1.0, 0.0] [ 0.25532535  0.14272044  0.0266425   0.00176051  0.0072226   0.07823137\n",
      "  0.00466612  0.01460097  0.83717943  0.13342003  0.04525917  0.8393357\n",
      "  0.33990755  0.70428392  0.13363772  0.21280397  0.04157082  0.06770535\n",
      "  0.12290786]\n",
      "{'to_messages': 807.0, 'deferral_payments': 867118.8108108108, 'expenses': 94299.0, 'poi': False, 'long_term_incentive': 746491.2, 'email_address': 'mark.metts@enron.com', 'from_poi_to_this_person': 38.0, 'deferred_income': -571283.4897959183, 'bonus': 600000.0, 'poi_response': 0.02631578947368421, 'restricted_stock_deferred': -445693.4117647059, 'shared_receipt_with_poi': 702.0, 'loan_advances': 27975000.0, 'from_messages': 29.0, 'other': 1740.0, 'director_fees': 93234.46666666666, 'take_home': 965788.0, 'total_stock_value': 585062.0, 'from_this_person_to_poi': 1.0, 'restricted_stock': 585062.0, 'salary': 365788.0, 'percent_exercised': 0.7291953686113701, 'total_payments': 1061827.0, 'exercised_stock_options': 3117640.0, 'response_rate': 0.03593556381660471}\n"
     ]
    },
    {
     "data": {
      "image/png": "[encoded data removed]",
      "text/plain": [
       "<matplotlib.figure.Figure at 0x11d2de790>"
      ]
     },
     "metadata": {},
     "output_type": "display_data"
    }
   ],
   "source": [
    "### Task 3: Create new feature(s)\n",
    "\n",
    "## create dataframe of dict with features as cols and names as index\n",
    "#https://stackoverflow.com/questions/13575090/construct-pandas-dataframe-from-items-in-nested-dictionary\n",
    "from __future__ import division\n",
    "import numpy as np\n",
    "import pandas as pd\n",
    "\n",
    "df_data = pd.DataFrame.from_dict({(i): data_dict[i]\n",
    "                           for i in data_dict.keys()},\n",
    "                           orient='index')\n",
    "\n",
    "\n",
    "#list of features that are numbers\n",
    "numbers = list(df_data)  \n",
    "numbers.remove('email_address') \n",
    "numbers.remove('poi')\n",
    "\n",
    "#ensure pd.dataframe values are 'float' for mathematical operations\n",
    "for trait in [numbers]:\n",
    "    df_data[trait] = df_data[trait].astype('float')\n",
    "\n",
    "# new features:\n",
    " \n",
    "df_data['take_home'] = df_data['salary'] + df_data['bonus']\n",
    "df_data['percent_exercised'] = df_data['exercised_stock_options']/df_data['total_stock_value']\n",
    "df_data['response_rate'] = df_data['from_messages']/df_data['to_messages']\n",
    "df_data['poi_response'] = df_data['from_this_person_to_poi']/df_data['from_poi_to_this_person']\n",
    "\n",
    "new_features=['take_home', 'percent_exercised', 'response_rate', 'poi_response']\n",
    "numbers = numbers + new_features \n",
    "\n",
    "##Replace inf with NaN\n",
    "#df_data.dropna(0,'all') -> no rows with all empty features\n",
    "df_data = df_data.replace(np.inf, np.nan)\n",
    "#df_data.plot.box(rot=90)\n",
    "\n",
    "##Data Prepocessing: Imputation and Scaling \n",
    "imputed_data = df_data.copy()\n",
    "for col in numbers:\n",
    "    ave =  imputed_data[col].mean()\n",
    "    imputed_data[col] = imputed_data[col].replace(np.nan, ave)\n",
    "\n",
    "#print imputed_data.describe()\n",
    "#imputed_data.plot.box(rot=90)\n",
    "\n",
    "## Scale in pd.dataframe MinMaxScaler-type for all features\n",
    "scaled_data = imputed_data.copy()\n",
    "scaled_data = ((test_data - test_data.min())/(test_data.max()-test_data.min())).astype('float')\n",
    "\n",
    "## Review Features: correlation matrix pandas, boxplot, statistics\n",
    "## https://stackoverflow.com/questions/17778394/list-highest-correlation-pairs-from-a-large-correlation-matrix-in-pandas\n",
    "s= scaled_data.corr()\n",
    "s_order = s.unstack().sort_values(ascending=False)\n",
    "#print s_order[0:50]\n",
    "#df_data.describe()\n",
    "scaled_data[my_features].plot.box(rot=90)\n",
    "\n",
    "## Store new features and corrections to my_dataset dictionary for easy export below.\n",
    "my_data_imputed = imputed_data.to_dict(orient='index')\n",
    "my_dataset = scaled_data.to_dict(orient='index')\n",
    "\n",
    "## Removed features: \n",
    "## 'restricted_stock_deferred', 17 entries; 'loan_advances', 3 entries; 'director_fees',16 entries\n",
    "##      -limited entries <10%, 2 have no POIs to classify on\n",
    "\n",
    "#my_features = ['poi','exercised_stock_options', 'take_home','salary','total_payments',\n",
    "#               'long_term_incentive','deferred_income','shared_receipt_with_poi', 'from_poi_to_this_person',\n",
    "#               'from_this_person_to_poi','from_messages','to_messages','percent_exercised'] \n",
    "\n",
    "my_features = ['poi','salary', 'bonus','deferral_payments','total_payments',  \n",
    "               'exercised_stock_options','restricted_stock','total_stock_value',\n",
    "               'expenses','deferred_income',\n",
    "               'long_term_incentive', 'other',\n",
    "               'restricted_stock_deferred', 'loan_advances', 'director_fees', \n",
    "               'to_messages', 'shared_receipt_with_poi','from_messages',      \n",
    "               'from_this_person_to_poi', 'from_poi_to_this_person'       ]\n",
    "### Extract features and labels from dataset for local testing\n",
    "def feature_extraction(mydata_dict, features_lineup):\n",
    "    data = featureFormat(mydata_dict, features_lineup, sort_keys = True)\n",
    "    labels, features = targetFeatureSplit(data)\n",
    "    return labels,features\n",
    "    \n",
    "labels, features = feature_extraction(my_dataset, my_features)\n",
    "print len(labels), len(features[1]), len(my_features)\n",
    "print labels, features[1]\n",
    "print my_data_imputed['METTS MARK']"
   ]
  },
  {
   "cell_type": "code",
   "execution_count": 101,
   "metadata": {
    "collapsed": false
   },
   "outputs": [
    {
     "name": "stdout",
     "output_type": "stream",
     "text": [
      "Slope: [ 0.03418121  2.92935824  0.13149497  1.80127123  3.18055869  1.07517356\n",
      " -3.47326702  0.04634238 -0.68271738  0.54502533 -2.14135533 -3.07536791\n",
      "  1.3614089   4.20487132 -0.57775675  0.14006872 -2.25899524 -0.18196414\n",
      " -3.90645005  1.11696965] Intercept:  0.726119690395\n",
      "Score Train: 0.496925803538\n",
      "Score Test: -0.592791403756\n"
     ]
    }
   ],
   "source": [
    "### Linear Regression of Continuous variables Scaled Data\n",
    "import matplotlib.pyplot as plt\n",
    "from sklearn.cross_validation import train_test_split\n",
    "from sklearn.linear_model import LinearRegression\n",
    "\n",
    "def reg_setup( f_train, f_test, t_train, t_test):\n",
    "    reg = LinearRegression()\n",
    "    reg = reg.fit(f_train, t_train)\n",
    "    print \"Slope:\", reg.coef_, \"Intercept: \",  reg.intercept_\n",
    "    print \"Score Train:\", reg.score(f_train, t_train)\n",
    "    print \"Score Test:\",  reg.score(f_test, t_test)\n",
    "    return reg\n",
    "\n",
    "### training-testing split needed in regression, just like classification\n",
    "feature_train, feature_test, target_train, target_test = train_test_split(features, labels, \n",
    "                                                                              test_size=0.5, random_state=42)\n",
    "\n",
    "reg = reg_setup(feature_train, feature_test, target_train, target_test)"
   ]
  },
  {
   "cell_type": "code",
   "execution_count": 102,
   "metadata": {
    "collapsed": false
   },
   "outputs": [
    {
     "name": "stdout",
     "output_type": "stream",
     "text": [
      "['salary', 'bonus'] Points Available:  81 81\n",
      "Slope: [ 0.03954061] Intercept:  240047.159404\n",
      "Score Train: 0.238559366868\n",
      "Score Test: 0.203020850473\n",
      "Slope New Test Regression: [ 0.13604032]\n"
     ]
    },
    {
     "data": {
      "image/png": "[encoded data removed]",
      "text/plain": [
       "<matplotlib.figure.Figure at 0x119072390>"
      ]
     },
     "metadata": {},
     "output_type": "display_data"
    },
    {
     "name": "stdout",
     "output_type": "stream",
     "text": [
      "['bonus', 'deferral_payments'] Points Available:  21 21\n",
      "Slope: [ 1.63533789] Intercept:  347723.562643\n",
      "Score Train: 0.850349298822\n",
      "Score Test: -2.52602881464\n",
      "Slope New Test Regression: [ 0.04564301]\n"
     ]
    },
    {
     "data": {
      "image/png": "[encoded data removed]",
      "text/plain": [
       "<matplotlib.figure.Figure at 0x10ff09b10>"
      ]
     },
     "metadata": {},
     "output_type": "display_data"
    },
    {
     "name": "stdout",
     "output_type": "stream",
     "text": [
      "['deferral_payments', 'total_payments'] Points Available:  37 37\n",
      "Slope: [-0.00324212] Intercept:  596725.494892\n",
      "Score Train: 0.00940362791198\n",
      "Score Test: -0.141679340326\n",
      "Slope New Test Regression: [ 0.38120493]\n"
     ]
    },
    {
     "data": {
      "image/png": "[encoded data removed]",
      "text/plain": [
       "<matplotlib.figure.Figure at 0x11a1b9d50>"
      ]
     },
     "metadata": {},
     "output_type": "display_data"
    },
    {
     "name": "stdout",
     "output_type": "stream",
     "text": [
      "['total_payments', 'exercised_stock_options'] Points Available:  85 85\n",
      "Slope: [ 0.23249312] Intercept:  1518614.22735\n",
      "Score Train: 0.130997159617\n",
      "Score Test: 0.113379299275\n",
      "Slope New Test Regression: [ 1.44020248]\n"
     ]
    },
    {
     "data": {
      "image/png": "[encoded data removed]",
      "text/plain": [
       "<matplotlib.figure.Figure at 0x11a09d090>"
      ]
     },
     "metadata": {},
     "output_type": "display_data"
    },
    {
     "name": "stdout",
     "output_type": "stream",
     "text": [
      "['exercised_stock_options', 'restricted_stock'] Points Available:  82 82\n",
      "Slope: [ 1.37538107] Intercept:  1784255.31539\n",
      "Score Train: 0.48351883878\n",
      "Score Test: 0.274090991862\n",
      "Slope New Test Regression: [ 1.96308592]\n"
     ]
    },
    {
     "data": {
      "image/png": "[encoded data removed]",
      "text/plain": [
       "<matplotlib.figure.Figure at 0x1194aa610>"
      ]
     },
     "metadata": {},
     "output_type": "display_data"
    },
    {
     "name": "stdout",
     "output_type": "stream",
     "text": [
      "['restricted_stock', 'total_stock_value'] Points Available:  107 107\n",
      "Slope: [ 0.26305479] Intercept:  136846.888069\n",
      "Score Train: 0.776317129261\n",
      "Score Test: 0.69240157308\n",
      "Slope New Test Regression: [ 0.30390837]\n"
     ]
    },
    {
     "data": {
      "image/png": "[encoded data removed]",
      "text/plain": [
       "<matplotlib.figure.Figure at 0x119f624d0>"
      ]
     },
     "metadata": {},
     "output_type": "display_data"
    },
    {
     "name": "stdout",
     "output_type": "stream",
     "text": [
      "['total_stock_value', 'expenses'] Points Available:  85 85\n",
      "Slope: [ 8.45999192] Intercept:  5826547.29986\n",
      "Score Train: 0.00185068936819\n",
      "Score Test: -0.468643027705\n",
      "Slope New Test Regression: [ 18.56624878]\n"
     ]
    },
    {
     "data": {
      "image/png": "[encoded data removed]",
      "text/plain": [
       "<matplotlib.figure.Figure at 0x10f4c6210>"
      ]
     },
     "metadata": {},
     "output_type": "display_data"
    },
    {
     "name": "stdout",
     "output_type": "stream",
     "text": [
      "['expenses', 'deferred_income'] Points Available:  38 38\n",
      "Slope: [ -8.22328240e-05] Intercept:  54488.9898695\n",
      "Score Train: 5.533595546e-06\n",
      "Score Test: -0.00223616151794\n",
      "Slope New Test Regression: [ 0.00904445]\n"
     ]
    },
    {
     "data": {
      "image/png": "[encoded data removed]",
      "text/plain": [
       "<matplotlib.figure.Figure at 0x118f0aa10>"
      ]
     },
     "metadata": {},
     "output_type": "display_data"
    },
    {
     "name": "stdout",
     "output_type": "stream",
     "text": [
      "['deferred_income', 'long_term_incentive'] Points Available:  23 23\n",
      "Slope: [-0.21060071] Intercept:  -490107.277513\n",
      "Score Train: 0.0500224974636\n",
      "Score Test: -0.233337840462\n",
      "Slope New Test Regression: [-0.81698284]\n"
     ]
    },
    {
     "data": {
      "image/png": "[encoded data removed]",
      "text/plain": [
       "<matplotlib.figure.Figure at 0x1199d0d50>"
      ]
     },
     "metadata": {},
     "output_type": "display_data"
    },
    {
     "name": "stdout",
     "output_type": "stream",
     "text": [
      "['long_term_incentive', 'other'] Points Available:  64 64\n",
      "Slope: [-0.1985564] Intercept:  665651.446826\n",
      "Score Train: 0.0150567582737\n",
      "Score Test: -0.79414025405\n",
      "Slope New Test Regression: [ 0.29046531]\n"
     ]
    },
    {
     "data": {
      "image/png": "[encoded data removed]",
      "text/plain": [
       "<matplotlib.figure.Figure at 0x119b2e150>"
      ]
     },
     "metadata": {},
     "output_type": "display_data"
    },
    {
     "name": "stdout",
     "output_type": "stream",
     "text": [
      "['other', 'to_messages'] Points Available:  62 62\n",
      "Slope: [ 33.9888141] Intercept:  467011.999119\n",
      "Score Train: 0.00320497500656\n",
      "Score Test: -0.00879986390984\n",
      "Slope New Test Regression: [ 3.50256756]\n"
     ]
    },
    {
     "data": {
      "image/png": "[encoded data removed]",
      "text/plain": [
       "<matplotlib.figure.Figure at 0x1193a5e10>"
      ]
     },
     "metadata": {},
     "output_type": "display_data"
    },
    {
     "name": "stdout",
     "output_type": "stream",
     "text": [
      "['to_messages', 'shared_receipt_with_poi'] Points Available:  86 86\n",
      "Slope: [ 1.66090583] Intercept:  87.8821916193\n",
      "Score Train: 0.699248687276\n",
      "Score Test: 0.719168570784\n",
      "Slope New Test Regression: [ 2.08056348]\n"
     ]
    },
    {
     "data": {
      "image/png": "[encoded data removed]",
      "text/plain": [
       "<matplotlib.figure.Figure at 0x11a048b50>"
      ]
     },
     "metadata": {},
     "output_type": "display_data"
    },
    {
     "name": "stdout",
     "output_type": "stream",
     "text": [
      "['shared_receipt_with_poi', 'from_messages'] Points Available:  86 86\n",
      "Slope: [ 0.44127448] Intercept:  886.698857502\n",
      "Score Train: 0.246622714206\n",
      "Score Test: -0.614740653891\n",
      "Slope New Test Regression: [ 0.03625174]\n"
     ]
    },
    {
     "data": {
      "image/png": "[encoded data removed]",
      "text/plain": [
       "<matplotlib.figure.Figure at 0x1193b2e50>"
      ]
     },
     "metadata": {},
     "output_type": "display_data"
    },
    {
     "name": "stdout",
     "output_type": "stream",
     "text": [
      "['from_messages', 'from_this_person_to_poi'] Points Available:  66 66\n",
      "Slope: [ 11.13300424] Intercept:  368.019305031\n",
      "Score Train: 0.297133948079\n",
      "Score Test: 0.281981942558\n",
      "Slope New Test Regression: [ 8.03879754]\n"
     ]
    },
    {
     "data": {
      "image/png": "[encoded data removed]",
      "text/plain": [
       "<matplotlib.figure.Figure at 0x11987fc10>"
      ]
     },
     "metadata": {},
     "output_type": "display_data"
    },
    {
     "name": "stdout",
     "output_type": "stream",
     "text": [
      "['from_this_person_to_poi', 'from_poi_to_this_person'] Points Available:  63 63\n",
      "Slope: [ 0.38157525] Intercept:  31.1106209625\n",
      "Score Train: 0.0435205589529\n",
      "Score Test: 0.304915140237\n",
      "Slope New Test Regression: [ 0.53421963]\n"
     ]
    },
    {
     "data": {
      "image/png": "[encoded data removed]",
      "text/plain": [
       "<matplotlib.figure.Figure at 0x1199aa190>"
      ]
     },
     "metadata": {},
     "output_type": "display_data"
    }
   ],
   "source": [
    "### Linear Regression of Continuous variables \n",
    "import matplotlib.pyplot as plt\n",
    "from sklearn.cross_validation import train_test_split\n",
    "from sklearn.linear_model import LinearRegression\n",
    "\n",
    "def reg_setup( f_train, f_test, t_train, t_test):\n",
    "    reg = LinearRegression()\n",
    "    reg = reg.fit(f_train, t_train)\n",
    "    print \"Slope:\", reg.coef_, \"Intercept: \",  reg.intercept_\n",
    "    print \"Score Train:\", reg.score(f_train, t_train)\n",
    "    print \"Score Test:\",  reg.score(f_test, t_test)\n",
    "    return reg\n",
    "\n",
    "def malen( f_train, f_test, t_train, t_test, features_list):\n",
    "    train_color = \"b\"\n",
    "    test_color = \"r\"\n",
    "    ### draw the scatterplot, with color-coded training and testing points\n",
    "    for feature, target in zip(f_test, t_test):\n",
    "        plt.scatter( feature, target, color=test_color ) \n",
    "    for feature, target in zip(f_train, t_train):\n",
    "        plt.scatter( feature, target, color=train_color ) \n",
    "\n",
    "    ### labels for the legend\n",
    "        plt.scatter(f_test[0], t_test[0], color=test_color, label=\"test\")\n",
    "        plt.scatter(f_test[0], t_test[0], color=train_color, label=\"train\")\n",
    "\n",
    "    ### draw the regression line, once it's coded\n",
    "    try:\n",
    "        plt.plot( f_test, reg.predict(f_test) )\n",
    "    except NameError:\n",
    "        pass\n",
    "\n",
    "    reg.fit(f_test, t_test)\n",
    "    print \"Slope New Test Regression:\", reg.coef_\n",
    "    plt.plot(f_train, reg.predict(f_train), color=\"y\") \n",
    "    plt.xlabel(features_list[1])\n",
    "    plt.ylabel(features_list[0])\n",
    "#   plt.legend()\n",
    "    plt.show()\n",
    "\n",
    "\n",
    "for items in range(len(features_list)-2):\n",
    "    two_features = [features_list[items+1], features_list[items+2]]\n",
    "    data_regress = featureFormat(data_dict, two_features, remove_any_zeroes=True)\n",
    "    target, features = targetFeatureSplit(data_regress)\n",
    "\n",
    "    ### training-testing split needed in regression, just like classification\n",
    "    feature_train, feature_test, target_train, target_test = train_test_split(features, target, \n",
    "                                                                              test_size=0.5, random_state=42)\n",
    "    print two_features, \"Points Available: \", len(target), len(data_regress)\n",
    "    reg = reg_setup(feature_train, feature_test, target_train, target_test)\n",
    "    paint = malen(feature_train, feature_test, target_train, target_test, two_features)\n"
   ]
  },
  {
   "cell_type": "code",
   "execution_count": 328,
   "metadata": {
    "collapsed": false
   },
   "outputs": [
    {
     "name": "stdout",
     "output_type": "stream",
     "text": [
      "percent_exercised score:  0.370461777688 0.543718301293\n",
      "to_messages score:  1.89263889899 0.171055559042\n",
      "from_messages score:  6.00007938769 0.0155137082597\n",
      "from_this_person_to_poi score:  5.86632518771 0.0166851706786\n",
      "from_poi_to_this_person score:  0.405485442931 0.525287901605\n",
      "shared_receipt_with_poi score:  19.9864365766 1.57623825499e-05\n",
      "deferred_income score:  6.58007383954 0.0113428038865\n",
      "long_term_incentive score:  26.337749095 9.18863764631e-07\n",
      "total_payments score:  8.35618192892 0.00444380848503\n",
      "salary score:  0.452635531004 0.502171769936\n",
      "take_home score:  11.5054132086 0.00089764854284\n",
      "exercised_stock_options score:  9.45493048777 0.00252318885358\n",
      "Select Percentile: [ 6.03674887  3.21525921  2.59805024  2.35224467  1.80928438  1.77766935\n",
      "  1.75370889  1.08272197  0.61275629  0.35271916  0.26462605  0.01275709]\n",
      "[ 1.          0.53261437  0.43037242  0.38965422  0.29971172  0.29447462\n",
      "  0.29050552  0.17935514  0.10150435  0.05842866  0.04383586  0.00211324]\n",
      "percent_exercised score:  0.00211323917483 0.543718301293\n",
      "to_messages score:  0.0438358550458 0.171055559042\n",
      "from_messages score:  0.0584286617954 0.0155137082597\n",
      "from_this_person_to_poi score:  0.101504352888 0.0166851706786\n",
      "from_poi_to_this_person score:  0.179355144654 0.525287901605\n",
      "shared_receipt_with_poi score:  0.290505523203 1.57623825499e-05\n",
      "deferred_income score:  0.294474622579 0.0113428038865\n",
      "long_term_incentive score:  0.299711718587 9.18863764631e-07\n",
      "total_payments score:  0.38965421869 0.00444380848503\n",
      "salary score:  0.430372423393 0.502171769936\n",
      "take_home score:  0.532614371815 0.00089764854284\n",
      "exercised_stock_options score:  1.0 0.00252318885358\n"
     ]
    }
   ],
   "source": [
    "from sklearn.feature_selection import VarianceThreshold\n",
    "from sklearn.feature_selection import SelectKBest, f_regression\n",
    "from sklearn.feature_selection import SelectPercentile, f_classif\n",
    "\n",
    "## Create VarianceThreshold object to rank feature variances\n",
    "thresholder = VarianceThreshold()\n",
    "X_high_variance = thresholder.fit(features)\n",
    "## List Features with Ranked variances (ascending)\n",
    "t_vars = thresholder.variances_\n",
    "t_vars_sort = np.argsort(thresholder.variances_)\n",
    "print \"VarianceThreshold:\"\n",
    "for i in t_vars_sort:\n",
    "    print my_features[i+1], t_vars[i]\n",
    "\n",
    "######################\n",
    "## KBest takes Featues, target(labels), select k features\n",
    "kbest = SelectKBest(f_regression, k=9).fit(features, labels)\n",
    "#trans = kbest.transform(X)\n",
    "\n",
    "k_scores_sort = np.argsort(kbest.scores_)\n",
    "k_pvals  = selection.pvalues_\n",
    "print \"SelectKBest:\"\n",
    "for f in k_scores_sort:\n",
    "    print my_features[f+1], 'score: ', k_scores[f], k_pvals[f]\n",
    "\n",
    "#####################    \n",
    "## Select Percentile, default selection function: the 10% most significant features\n",
    "selector = SelectPercentile(f_classif, percentile=10)\n",
    "selector.fit(features, labels)\n",
    "scores = -np.log10(selector.pvalues_)\n",
    "scores /= scores.max()\n",
    "print \"SelectPercentile:\"\n",
    "for f in np.argsort(scores):\n",
    "    print my_features[f+1], 'score: ', scores[f], k_pvals[f]\n"
   ]
  },
  {
   "cell_type": "code",
   "execution_count": 329,
   "metadata": {
    "collapsed": false
   },
   "outputs": [
    {
     "name": "stdout",
     "output_type": "stream",
     "text": [
      "145 [ 0.0072226   0.16346077  0.25532535  0.00176051  0.13342003  0.83717943\n",
      "  0.21280397  0.12290786  0.06770535  0.04157082  0.13363772  1.        ]\n"
     ]
    }
   ],
   "source": [
    "print len(features), features[1]\n",
    "\n",
    "## PCA()\n",
    "###########################\n",
    "\n",
    "def doPCA(data, nummer):\n",
    "    from sklearn.decomposition import PCA\n",
    "    pca = PCA(n_components = nummer)\n",
    "    pca.fit(data)\n",
    "    return pca  \n",
    "\n",
    "pca = doPCA(features, 12)\n",
    "print \"PCA 12 components single run:\"\n",
    "print pca.explained_variance_ratio_\n",
    "print len(pca.components_)\n",
    "#transformed_data = pca.transform(select_comp)"
   ]
  },
  {
   "cell_type": "code",
   "execution_count": 474,
   "metadata": {
    "collapsed": false
   },
   "outputs": [
    {
     "name": "stdout",
     "output_type": "stream",
     "text": [
      "[ 0.0072226   0.00466612  0.16346077  0.14272044  0.25532535  0.00176051\n",
      "  0.07823137  0.13342003  0.83717943  0.21280397  0.12290786] 145 [ 0.00313781  0.00951147  0.1148967   0.09205549  0.28251383  0.01063392\n",
      "  0.02346504  0.13342003  0.988464    0.01250226  0.        ]\n"
     ]
    }
   ],
   "source": [
    "def split_sets(features, labels, test_amt, r_state): \n",
    "    f_train, f_test, l_train, l_test = \\\n",
    "    train_test_split(features, labels, test_size=0.3, random_state=42)\n",
    "    return f_train, f_test, l_train, l_test   \n",
    "\n",
    "def feature_extraction(mydata_dict, features_lineup):\n",
    "    data = featureFormat(mydata_dict, features_lineup, sort_keys = True)\n",
    "    labels, features = targetFeatureSplit(data)\n",
    "    return labels,features\n",
    "\n",
    "my_features = ['poi','exercised_stock_options', 'total_stock_value',\n",
    "               'take_home','bonus', 'salary', \n",
    "               'total_payments','restricted_stock','long_term_incentive',\n",
    "               'deferred_income','shared_receipt_with_poi',\n",
    "               'from_poi_to_this_person'\n",
    "                ]\n",
    "\n",
    "labels, features = feature_extraction(my_dataset, my_features)\n",
    "features_train, features_test, labels_train, labels_test = split_sets(features, labels, 0.3, 42)\n",
    "print features[1], len(features), features_train[1]"
   ]
  },
  {
   "cell_type": "code",
   "execution_count": 462,
   "metadata": {
    "collapsed": false
   },
   "outputs": [
    {
     "name": "stdout",
     "output_type": "stream",
     "text": [
      "Pipeline PCA()/SelectKBest with SCV classifier\n",
      "[ 0.86138614  0.86138614  0.86138614  0.86138614  0.86138614  0.86138614\n",
      "  0.86138614  0.86138614  0.86138614  0.86138614  0.86138614  0.86138614\n",
      "  0.86138614  0.86138614  0.86138614  0.86138614  0.86138614  0.86138614\n",
      "  0.86138614  0.86138614  0.87128713  0.86138614  0.86138614  0.86138614\n",
      "  0.86138614  0.86138614  0.86138614  0.86138614  0.86138614  0.86138614\n",
      "  0.86138614  0.87128713  0.87128713  0.86138614  0.86138614  0.86138614\n",
      "  0.86138614  0.86138614  0.86138614  0.86138614  0.86138614  0.87128713\n",
      "  0.87128713  0.86138614  0.86138614  0.86138614  0.86138614  0.86138614\n",
      "  0.86138614  0.85148515  0.85148515  0.87128713  0.87128713  0.86138614\n",
      "  0.86138614  0.86138614  0.86138614  0.86138614  0.86138614  0.85148515\n",
      "  0.85148515  0.87128713  0.87128713  0.86138614  0.86138614  0.86138614\n",
      "  0.86138614  0.86138614  0.86138614  0.85148515  0.85148515  0.87128713\n",
      "  0.87128713  0.86138614  0.86138614]\n",
      "0.871287128713\n"
     ]
    },
    {
     "data": {
      "text/plain": [
       "{'classify__C': 60,\n",
       " 'reduce_dim': PCA(copy=True, iterated_power='auto', n_components=2, random_state=None,\n",
       "   svd_solver='auto', tol=0.0, whiten=False),\n",
       " 'reduce_dim__n_components': 2}"
      ]
     },
     "execution_count": 462,
     "metadata": {},
     "output_type": "execute_result"
    }
   ],
   "source": [
    "###########################\n",
    "## Pipeline for feature reduction with PCA()/SelectKBest\n",
    "## http://scikit-learn.org/stable/auto_examples/compose/plot_compare_reduction.html\n",
    "#sphx-glr-auto-examples-compose-plot-compare-reduction-py\n",
    "\n",
    "from sklearn.decomposition import PCA\n",
    "from sklearn.svm import SVC\n",
    "from sklearn.model_selection import GridSearchCV\n",
    "from sklearn.cross_validation import train_test_split\n",
    "\n",
    "\n",
    "\n",
    "pipe = Pipeline([\n",
    "    ('reduce_dim', SelectKBest()),\n",
    "    ('classify', SVC())\n",
    "])\n",
    "\n",
    "N_FEATURES_OPTIONS = [2,3, 5, 7, 10]\n",
    "S_FUNC = [f_regression, f_classif]\n",
    "C_OPTIONS = [25, 40, 45, 50, 60]\n",
    "WHITEWASH =[True, False]\n",
    "param_grid = [\n",
    "    {\n",
    "        'reduce_dim': [PCA()],\n",
    "        'reduce_dim__n_components': N_FEATURES_OPTIONS,\n",
    "        #'reduce_dim__whiten':WHITEWASH,\n",
    "        'classify__C': C_OPTIONS\n",
    "    },        {\n",
    "        'reduce_dim': [SelectKBest()],\n",
    "        'reduce_dim__k': N_FEATURES_OPTIONS,\n",
    "        'reduce_dim__score_func': S_FUNC,\n",
    "        'classify__C': C_OPTIONS\n",
    "    },\n",
    "]\n",
    "\n",
    "grid = GridSearchCV(pipe, param_grid=param_grid)\n",
    "grid.fit(features_train, labels_train)\n",
    "\n",
    "mean_scores = np.array(grid.cv_results_['mean_test_score'])\n",
    "# scores are in the order of param_grid iteration, which is alphabetical\n",
    "#mean_scores = mean_scores.reshape(len(C_OPTIONS), -1, len(N_FEATURES_OPTIONS))\n",
    "# select score for best C\n",
    "#mean_scores = mean_scores.max(axis=0)\n",
    "print \"Pipeline PCA()/SelectKBest with SCV classifier\"\n",
    "print mean_scores\n",
    "print grid.best_score_\n",
    "grid.cv_results_['params'][grid.best_index_]"
   ]
  },
  {
   "cell_type": "code",
   "execution_count": 476,
   "metadata": {
    "collapsed": false
   },
   "outputs": [
    {
     "ename": "AttributeError",
     "evalue": "'GridSearchCV' object has no attribute 'cv_results_'",
     "output_type": "error",
     "traceback": [
      "\u001b[0;31m---------------------------------------------------------------------------\u001b[0m",
      "\u001b[0;31mAttributeError\u001b[0m                            Traceback (most recent call last)",
      "\u001b[0;32m<ipython-input-476-af5f3abd6552>\u001b[0m in \u001b[0;36m<module>\u001b[0;34m()\u001b[0m\n\u001b[1;32m     61\u001b[0m \u001b[0mgrid\u001b[0m\u001b[0;34m.\u001b[0m\u001b[0mfit\u001b[0m\u001b[0;34m(\u001b[0m\u001b[0mfeatures_train\u001b[0m\u001b[0;34m,\u001b[0m \u001b[0mlabels_train\u001b[0m\u001b[0;34m)\u001b[0m\u001b[0;34m\u001b[0m\u001b[0m\n\u001b[1;32m     62\u001b[0m \u001b[0;34m\u001b[0m\u001b[0m\n\u001b[0;32m---> 63\u001b[0;31m \u001b[0mmean_scores\u001b[0m \u001b[0;34m=\u001b[0m \u001b[0mnp\u001b[0m\u001b[0;34m.\u001b[0m\u001b[0marray\u001b[0m\u001b[0;34m(\u001b[0m\u001b[0mgrid\u001b[0m\u001b[0;34m.\u001b[0m\u001b[0mcv_results_\u001b[0m\u001b[0;34m[\u001b[0m\u001b[0;34m'mean_test_score'\u001b[0m\u001b[0;34m]\u001b[0m\u001b[0;34m)\u001b[0m\u001b[0;34m\u001b[0m\u001b[0m\n\u001b[0m\u001b[1;32m     64\u001b[0m \u001b[0;31m# scores are in the order of param_grid iteration, which is alphabetical\u001b[0m\u001b[0;34m\u001b[0m\u001b[0;34m\u001b[0m\u001b[0m\n\u001b[1;32m     65\u001b[0m \u001b[0;31m#mean_scores = mean_scores.reshape(len(C_OPTIONS), -1, len(N_FEATURES_OPTIONS))\u001b[0m\u001b[0;34m\u001b[0m\u001b[0;34m\u001b[0m\u001b[0m\n",
      "\u001b[0;31mAttributeError\u001b[0m: 'GridSearchCV' object has no attribute 'cv_results_'"
     ]
    }
   ],
   "source": [
    "## Pipeline for classifier selection with one feature reduction\n",
    "\n",
    "from sklearn.naive_bayes import GaussianNB\n",
    "from sklearn import tree, neighbors\n",
    "from sklearn.ensemble import RandomForestClassifier, AdaBoostClassifier\n",
    "\n",
    "pipe2 = Pipeline([\n",
    "    ('reduce_dim', SelectKBest(f_regression)),\n",
    "    ('classify', GaussianNB())\n",
    "])\n",
    "\n",
    "N_FEATURES_OPTIONS = [2, 3, 5, 7, 9, 11]\n",
    "C_OPTIONS = [25, 40, 45, 50, 60]\n",
    "SPLITS = [2, 10, 25, 30]\n",
    "WEIGHTS = ['distance', 'uniform']\n",
    "NACHBARN = [5, 10, 50]\n",
    "ESTIMATES = [2,10,25,50]\n",
    "\n",
    "param_grid = [\n",
    "    {\n",
    "        'reduce_dim__k': N_FEATURES_OPTIONS,\n",
    "    #    'reduce_dim__n_components': N_FEATURES_OPTIONS,\n",
    "        'classify': [SVC()],\n",
    "        'classify__C': C_OPTIONS\n",
    "    },\n",
    "    {\n",
    "        'reduce_dim__k': N_FEATURES_OPTIONS,\n",
    "    #    'reduce_dim__n_components': N_FEATURES_OPTIONS, \n",
    "        'classify': [GaussianNB()]\n",
    "    },\n",
    "    {\n",
    "        'reduce_dim__k': N_FEATURES_OPTIONS,\n",
    "    #    'reduce_dim__n_components': N_FEATURES_OPTIONS,\n",
    "        'classify': [tree.DecisionTreeClassifier()],\n",
    "        'classify__min_samples_split': SPLITS \n",
    "    },\n",
    "    {\n",
    "        'reduce_dim__k': N_FEATURES_OPTIONS,\n",
    "    #    'reduce_dim__n_components': N_FEATURES_OPTIONS,\n",
    "        'classify': [neighbors.KNeighborsClassifier()],\n",
    "        'classify__n_neighbors': NACHBARN,\n",
    "        'classify__weights': WEIGHTS\n",
    "    },\n",
    "    {\n",
    "        'reduce_dim__k': N_FEATURES_OPTIONS,\n",
    "    #    'reduce_dim__n_components': N_FEATURES_OPTIONS,\n",
    "        'classify': [RandomForestClassifier()],\n",
    "        'classify__n_estimators': ESTIMATES\n",
    "    },\n",
    "    {\n",
    "       'reduce_dim__k': N_FEATURES_OPTIONS,\n",
    "    #    'reduce_dim__n_components': N_FEATURES_OPTIONS,\n",
    "        'classify': [AdaBoostClassifier()],\n",
    "        'classify__n_estimators': ESTIMATES\n",
    "    },\n",
    "]\n",
    "\n",
    "\n",
    "\n",
    "grid = GridSearchCV(pipe2, param_grid=param_grid)\n",
    "grid.fit(features_train, labels_train)\n",
    "\n",
    "mean_scores = np.array(grid.cv_results_['mean_test_score'])\n",
    "# scores are in the order of param_grid iteration, which is alphabetical\n",
    "#mean_scores = mean_scores.reshape(len(C_OPTIONS), -1, len(N_FEATURES_OPTIONS))\n",
    "# select score for best C\n",
    "#mean_scores = mean_scores.max(axis=0)\n",
    "print \"Pipeline SelectKBest with various classifiers\"\n",
    "print mean_scores\n",
    "print grid.best_score_\n",
    "grid.cv_results_['params'][grid.best_index_]"
   ]
  },
  {
   "cell_type": "code",
   "execution_count": 366,
   "metadata": {
    "collapsed": false
   },
   "outputs": [
    {
     "name": "stdout",
     "output_type": "stream",
     "text": [
      "Pipeline SelectKBest with various classifiers\n",
      "[ 0.86138614  0.87128713  0.86138614  0.86138614  0.86138614  0.86138614\n",
      "  0.85148515  0.86138614  0.86138614  0.86138614  0.87128713  0.86138614\n",
      "  0.86138614  0.85148515  0.86138614  0.86138614  0.86138614  0.87128713\n",
      "  0.87128713  0.86138614  0.86138614  0.86138614  0.86138614  0.86138614\n",
      "  0.86138614  0.87128713  0.85148515  0.86138614  0.86138614  0.86138614\n",
      "  0.85148515  0.87128713  0.87128713  0.85148515  0.86138614  0.84158416\n",
      "  0.82178218  0.86138614  0.85148515  0.85148515  0.81188119  0.82178218\n",
      "  0.84158416  0.82178218  0.85148515  0.85148515  0.85148515  0.81188119\n",
      "  0.82178218  0.87128713  0.85148515  0.85148515  0.84158416  0.84158416\n",
      "  0.85148515  0.85148515  0.86138614  0.85148515  0.84158416  0.85148515\n",
      "  0.85148515  0.85148515  0.85148515  0.86138614  0.86138614  0.85148515\n",
      "  0.85148515  0.85148515  0.85148515  0.85148515  0.86138614  0.86138614\n",
      "  0.86138614  0.86138614  0.86138614  0.86138614  0.86138614  0.86138614\n",
      "  0.86138614  0.86138614  0.86138614  0.86138614  0.86138614  0.86138614\n",
      "  0.86138614  0.86138614  0.86138614  0.86138614  0.86138614  0.86138614\n",
      "  0.86138614  0.85148515  0.85148515  0.85148515  0.85148515  0.86138614\n",
      "  0.86138614  0.85148515  0.85148515  0.85148515  0.85148515  0.85148515\n",
      "  0.86138614  0.86138614  0.85148515  0.85148515  0.85148515  0.85148515\n",
      "  0.85148515  0.86138614  0.86138614  0.86138614  0.85148515  0.85148515\n",
      "  0.85148515  0.85148515  0.86138614  0.85148515  0.86138614  0.85148515\n",
      "  0.85148515  0.85148515  0.85148515  0.86138614  0.85148515  0.86138614\n",
      "  0.85148515  0.87128713  0.84158416  0.84158416  0.84158416  0.82178218\n",
      "  0.82178218  0.84158416  0.87128713  0.85148515  0.84158416  0.84158416\n",
      "  0.82178218  0.82178218  0.85148515  0.86138614  0.84158416  0.84158416\n",
      "  0.85148515  0.85148515  0.85148515  0.84158416  0.86138614  0.84158416\n",
      "  0.84158416  0.85148515  0.85148515  0.85148515  0.85148515  0.86138614\n",
      "  0.85148515  0.85148515  0.85148515  0.85148515  0.85148515  0.86138614\n",
      "  0.86138614  0.86138614  0.86138614  0.86138614  0.86138614  0.86138614\n",
      "  0.87128713  0.86138614  0.86138614  0.86138614  0.86138614  0.86138614\n",
      "  0.86138614  0.86138614  0.86138614  0.86138614  0.86138614  0.86138614\n",
      "  0.86138614  0.86138614]\n",
      "0.871287128713\n"
     ]
    },
    {
     "data": {
      "text/plain": [
       "{'classify': SVC(C=25, cache_size=200, class_weight=None, coef0=0.0,\n",
       "   decision_function_shape=None, degree=3, gamma='auto', kernel='rbf',\n",
       "   max_iter=-1, probability=False, random_state=None, shrinking=True,\n",
       "   tol=0.001, verbose=False),\n",
       " 'classify__C': 25,\n",
       " 'reduce_dim': SelectKBest(k=3, score_func=<function f_regression at 0x10c250758>),\n",
       " 'reduce_dim__k': 3}"
      ]
     },
     "execution_count": 366,
     "metadata": {},
     "output_type": "execute_result"
    }
   ],
   "source": [
    "pipe2 = Pipeline([\n",
    "    ('reduce_dim', SelectKBest(f_regression)),\n",
    "    ('classify', SVC())\n",
    "])\n",
    "\n",
    "N_FEATURES_OPTIONS = [2, 3, 4, 5, 6, 10,11]\n",
    "C_OPTIONS = [25, 30, 40, 45, 50]\n",
    "WEIGHTS = ['distance', 'uniform']\n",
    "NACHBARN = [3,5,8,10]\n",
    "ESTIMATES = [2,4,6,10,25]\n",
    "\n",
    "param_grid = [\n",
    "    {\n",
    "        'reduce_dim': [SelectKBest(f_regression)],\n",
    "        'reduce_dim__k': N_FEATURES_OPTIONS,\n",
    "        'classify': [SVC()],\n",
    "        'classify__C': C_OPTIONS\n",
    "    },\n",
    "    {\n",
    "        'reduce_dim': [SelectKBest(f_regression)],\n",
    "        'reduce_dim__k': N_FEATURES_OPTIONS,\n",
    "        'classify': [neighbors.KNeighborsClassifier()],\n",
    "        'classify__n_neighbors': NACHBARN,\n",
    "        'classify__weights': WEIGHTS\n",
    "    },\n",
    "    {\n",
    "        'reduce_dim': [PCA()],\n",
    "        'reduce_dim__n_components': N_FEATURES_OPTIONS,\n",
    "        'classify': [SVC()],\n",
    "        'classify__C': C_OPTIONS\n",
    "    },\n",
    "    {\n",
    "        'reduce_dim': [PCA()],\n",
    "        'reduce_dim__n_components': N_FEATURES_OPTIONS,\n",
    "        'classify': [neighbors.KNeighborsClassifier()],\n",
    "        'classify__n_neighbors': NACHBARN,\n",
    "        'classify__weights': WEIGHTS\n",
    "    },\n",
    "]\n",
    "\n",
    "\n",
    "\n",
    "grid = GridSearchCV(pipe2, param_grid=param_grid)\n",
    "grid.fit(features_train, labels_train)\n",
    "\n",
    "mean_scores = np.array(grid.cv_results_['mean_test_score'])\n",
    "# scores are in the order of param_grid iteration, which is alphabetical\n",
    "#mean_scores = mean_scores.reshape(len(C_OPTIONS), -1, len(N_FEATURES_OPTIONS))\n",
    "# select score for best C\n",
    "#mean_scores = mean_scores.max(axis=0)\n",
    "print \"Pipeline SelectKBest with various classifiers\"\n",
    "print mean_scores\n",
    "print grid.best_score_\n",
    "grid.cv_results_['params'][grid.best_index_]"
   ]
  },
  {
   "cell_type": "code",
   "execution_count": null,
   "metadata": {
    "collapsed": false
   },
   "outputs": [],
   "source": []
  },
  {
   "cell_type": "code",
   "execution_count": null,
   "metadata": {
    "collapsed": false
   },
   "outputs": [],
   "source": []
  },
  {
   "cell_type": "code",
   "execution_count": 247,
   "metadata": {
    "collapsed": false
   },
   "outputs": [
    {
     "name": "stdout",
     "output_type": "stream",
     "text": [
      "training time: 0.002 s\n",
      "predicting time: 0.001 s\n",
      "('Accuracy is ', 0.95454545454545459)\n",
      "('GNB Accuracy_Score:  ', 0.95454545454545459)\n"
     ]
    }
   ],
   "source": [
    "### Task 4: Try a varity of classifiers - Name classifier clf for easy export below.\n",
    "### To do PCA or other multi-stage operations, you'll need to use Pipelines. \n",
    "### More info: http://scikit-learn.org/stable/modules/pipeline.html\n",
    "\n",
    "# Provided to give you a starting point. Try a variety of classifiers.\n",
    "import sys\n",
    "from time import time\n",
    "from sklearn.naive_bayes import GaussianNB\n",
    "from sklearn.cross_validation import train_test_split\n",
    "\n",
    "from sklearn.feature_selection import SelectKBest\n",
    "from sklearn.feature_selection import f_regression\n",
    "\n",
    "\n",
    "clf = GaussianNB()\n",
    "#GaussianNB(priors=None, var_smoothing=1e-09)\n",
    "\n",
    "features_train, features_test, labels_train, labels_test = \\\n",
    "    train_test_split(features, labels, test_size=0.3, random_state=30)\n",
    "\n",
    "\n",
    "clf.fit(features_train, labels_train)\n",
    "\n",
    "\n",
    "t0 = time()\n",
    "clf.fit(features_train, labels_train)\n",
    "print \"training time:\", round(time()-t0, 3), \"s\"\n",
    "\n",
    "p0 = time()\n",
    "pred = clf.predict(features_test)\n",
    "print \"predicting time:\", round(time()-p0, 3), \"s\"\n",
    "\n",
    "accuracy = clf.score(features_test, labels_test)\n",
    "\n",
    "print(\"Accuracy is \", accuracy)\n",
    "\n",
    "acc = accuracy_score(labels_test, pred)\n",
    "print (\"GNB Accuracy_Score:  \", acc)\n",
    "\n",
    "\n"
   ]
  },
  {
   "cell_type": "code",
   "execution_count": 267,
   "metadata": {
    "collapsed": false
   },
   "outputs": [
    {
     "name": "stdout",
     "output_type": "stream",
     "text": [
      "training time: 0.003 s\n",
      "prediction time: 0.001 s\n",
      "(2, 'Accuracy:  ', 0.86363636363636365)\n",
      "('Accuracy is clf.score', 0.86363636363636365)\n",
      "training time: 0.001 s\n",
      "prediction time: 0.0 s\n",
      "(3, 'Accuracy:  ', 0.90909090909090906)\n",
      "('Accuracy is clf.score', 0.90909090909090906)\n",
      "training time: 0.001 s\n",
      "prediction time: 0.0 s\n",
      "(4, 'Accuracy:  ', 0.88636363636363635)\n",
      "('Accuracy is clf.score', 0.88636363636363635)\n"
     ]
    }
   ],
   "source": [
    "#### classifier 2 - decision tree\n",
    "\n",
    "from sklearn.metrics import accuracy_score\n",
    "\n",
    "def classify_tree(features_train, labels_train, split):\n",
    "    from sklearn import tree\n",
    "    clf = tree.DecisionTreeClassifier(min_samples_split = split)\n",
    "    clf = clf.fit(features_train, labels_train)\n",
    "    return clf\n",
    "\n",
    "collection = [2,3,4]\n",
    "\n",
    "for splits in collection:\n",
    "    t0 = time()   \n",
    "    tree_clf = classify_tree(features_train, labels_train, splits)\n",
    "    print \"training time:\", round(time()-t0, 3), \"s\"\n",
    "\n",
    "    p0 = time()\n",
    "    pred_tree = tree_clf.predict(features_test)\n",
    "    print \"prediction time:\", round(time()-p0, 3), \"s\"\n",
    "    acc_min_samples_split = accuracy_score(labels_test, pred_tree)\n",
    "    print (splits,\"Accuracy:  \", acc_min_samples_split)\n",
    "    accuracy = tree_clf.score(features_test, labels_test)\n",
    "    print(\"Accuracy is clf.score\", accuracy)\n"
   ]
  },
  {
   "cell_type": "code",
   "execution_count": 271,
   "metadata": {
    "collapsed": false
   },
   "outputs": [
    {
     "name": "stdout",
     "output_type": "stream",
     "text": [
      "training time: 0.005 s\n",
      "prediction time: 0.001 s\n",
      "(1000, 'Accuracy SVC:  ', 0.93181818181818177)\n",
      "('Accuracy is clf.score', 0.93181818181818177)\n",
      "training time: 0.003 s\n",
      "prediction time: 0.0 s\n",
      "(500, 'Accuracy SVC:  ', 0.95454545454545459)\n",
      "('Accuracy is clf.score', 0.95454545454545459)\n",
      "training time: 0.001 s\n",
      "prediction time: 0.0 s\n",
      "(10, 'Accuracy SVC:  ', 0.95454545454545459)\n",
      "('Accuracy is clf.score', 0.95454545454545459)\n",
      "training time: 0.001 s\n",
      "prediction time: 0.0 s\n",
      "(1, 'Accuracy SVC:  ', 0.93181818181818177)\n",
      "('Accuracy is clf.score', 0.93181818181818177)\n"
     ]
    }
   ],
   "source": [
    "#########################################################\n",
    "### SVC classifier ###\n",
    "\n",
    "def classify(features_train, labels_train, penalty, gams, kern_type):\n",
    "    from sklearn.svm import SVC\n",
    "    clf = SVC(C=penalty, gamma = gams, kernel=kern_type)\n",
    "    clf = clf.fit(features_train, labels_train)\n",
    "    return clf\n",
    "\n",
    "def submitAccuracy():\n",
    "    return acc\n",
    "\n",
    "#features_train = features_train[:len(features_train)/100] \n",
    "#labels_train = labels_train[:len(labels_train)/100] \n",
    "\n",
    "collection = [1000, 500, 10, 1]\n",
    "for penalties in collection:\n",
    "    t0 = time()   \n",
    "    svc_clf = classify(features_train, labels_train, penalties, 0.9, 'rbf')\n",
    "    print \"training time:\", round(time()-t0, 3), \"s\"\n",
    "\n",
    "    p0 = time()\n",
    "    pred = svc_clf.predict(features_test)\n",
    "    print \"prediction time:\", round(time()-p0, 3), \"s\"\n",
    "    acc = accuracy_score(labels_test, pred)\n",
    "    print (penalties, \"Accuracy SVC:  \", acc)\n",
    "    accuracy = svc_clf.score(features_test, labels_test)\n",
    "    print(\"Accuracy is clf.score\", accuracy)\n",
    "\n",
    "#########################################################"
   ]
  },
  {
   "cell_type": "code",
   "execution_count": 272,
   "metadata": {
    "collapsed": false
   },
   "outputs": [
    {
     "name": "stdout",
     "output_type": "stream",
     "text": [
      "KNeighbors:   100\n",
      "training time: 0.002 s\n",
      "prediction time: 0.002 s\n",
      "('Accuracy is clf.score', 0.93181818181818177)\n",
      "100 Accuracy:   0.931818181818\n",
      "KNeighbors:   75\n",
      "training time: 0.0 s\n",
      "prediction time: 0.001 s\n",
      "('Accuracy is clf.score', 0.93181818181818177)\n",
      "75 Accuracy:   0.931818181818\n",
      "KNeighbors:   1\n",
      "training time: 0.001 s\n",
      "prediction time: 0.004 s\n",
      "('Accuracy is clf.score', 0.79545454545454541)\n",
      "1 Accuracy:   0.795454545455\n"
     ]
    }
   ],
   "source": [
    "### K Nearest Neighbors\n",
    "\n",
    "def classify(features_train, labels_train, split):\n",
    "    from sklearn import neighbors\n",
    "    clf = neighbors.KNeighborsClassifier(n_neighbors = split, weights = 'distance')\n",
    "    print \"KNeighbors:  \", split\n",
    "    clf = clf.fit(features_train, labels_train)\n",
    "    return clf\n",
    "\n",
    "\n",
    "collection = [100, 75, 1]\n",
    "\n",
    "for splits in collection:\n",
    "    t0 = time()   \n",
    "    k_clf = classify(features_train, labels_train, splits)\n",
    "    print \"training time:\", round(time()-t0, 3), \"s\"\n",
    "\n",
    "    p0 = time()\n",
    "    pred_k = k_clf.predict(features_test)\n",
    "    print \"prediction time:\", round(time()-p0, 3), \"s\"\n",
    "    accuracy = k_clf.score(features_test, labels_test)\n",
    "    print(\"Accuracy is clf.score\", accuracy)\n",
    "    acc = accuracy_score(labels_test, pred_k)\n",
    "    print splits,\"Accuracy:  \", acc"
   ]
  },
  {
   "cell_type": "code",
   "execution_count": 273,
   "metadata": {
    "collapsed": false
   },
   "outputs": [
    {
     "name": "stdout",
     "output_type": "stream",
     "text": [
      "training time: 0.02 s\n",
      "prediction time: 0.003 s\n",
      "2 Accuracy:   0.909090909091\n",
      "[ 0.  0.  0.  0.  0.  0.  0.  0.  0.  0.  0.  0.  0.  0.  0.  0.  0.  0.\n",
      "  0.  0.  0.  0.  0.  0.  0.  0.  0.  1.  0.  0.  0.  0.  0.  0.  0.  0.\n",
      "  0.  0.  0.  0.  0.  0.  0.  0.]\n",
      "training time: 0.075 s\n",
      "prediction time: 0.015 s\n",
      "10 Accuracy:   0.931818181818\n",
      "[ 0.  0.  0.  0.  0.  0.  0.  0.  0.  0.  0.  0.  0.  0.  1.  0.  0.  0.\n",
      "  0.  0.  0.  0.  0.  0.  0.  0.  0.  0.  0.  0.  0.  0.  0.  0.  0.  1.\n",
      "  0.  0.  0.  0.  0.  0.  0.  0.]\n",
      "training time: 13.667 s\n",
      "prediction time: 2.038 s\n",
      "2000 Accuracy:   0.909090909091\n",
      "[ 0.  0.  0.  0.  0.  0.  0.  1.  0.  0.  0.  0.  0.  0.  1.  0.  0.  0.\n",
      "  0.  0.  0.  0.  0.  0.  0.  0.  0.  0.  0.  0.  0.  0.  0.  0.  0.  1.\n",
      "  0.  0.  0.  0.  0.  0.  0.  0.]\n"
     ]
    }
   ],
   "source": [
    "## Random Forest \n",
    "\n",
    "def classify(features_train, labels_train, split):\n",
    "    from sklearn.ensemble import RandomForestClassifier\n",
    "    clf = RandomForestClassifier(n_estimators = split)\n",
    "    clf = clf.fit(features_train, labels_train)\n",
    "    return clf\n",
    "\n",
    "collection = [2,10,2000]\n",
    "\n",
    "for splits in collection:\n",
    "    t0 = time()   \n",
    "    rf_clf = classify(features_train, labels_train, splits)\n",
    "    print \"training time:\", round(time()-t0, 3), \"s\"\n",
    "\n",
    "    p0 = time()\n",
    "    pred = rf_clf.predict(features_test)\n",
    "    print \"prediction time:\", round(time()-p0, 3), \"s\"\n",
    "\n",
    "    acc = accuracy_score(labels_test, pred)\n",
    "    print splits,\"Accuracy:  \", acc\n",
    "    print pred"
   ]
  },
  {
   "cell_type": "code",
   "execution_count": 274,
   "metadata": {
    "collapsed": false
   },
   "outputs": [
    {
     "name": "stdout",
     "output_type": "stream",
     "text": [
      "training time: 0.011 s\n",
      "prediction time: 0.001 s\n",
      "2 Accuracy:   0.954545454545\n",
      "training time: 0.26 s\n",
      "prediction time: 0.01 s\n",
      "50 Accuracy:   0.909090909091\n",
      "training time: 0.493 s\n",
      "prediction time: 0.014 s\n",
      "100 Accuracy:   0.863636363636\n"
     ]
    }
   ],
   "source": [
    "## AdaBoost\n",
    "\n",
    "def classify(features_train, labels_train, split):\n",
    "    from sklearn.ensemble import AdaBoostClassifier\n",
    "    clf = AdaBoostClassifier(n_estimators = split)\n",
    "    clf = clf.fit(features_train, labels_train)\n",
    "    return clf\n",
    "\n",
    "collection = [2,50,100]\n",
    "\n",
    "for splits in collection:\n",
    "    t0 = time()   \n",
    "    ada_clf = classify(features_train, labels_train, splits)\n",
    "    print \"training time:\", round(time()-t0, 3), \"s\"\n",
    "\n",
    "    p0 = time()\n",
    "    pred = ada_clf.predict(features_test)\n",
    "    print \"prediction time:\", round(time()-p0, 3), \"s\"\n",
    "\n",
    "    acc = accuracy_score(labels_test, pred)\n",
    "    print splits,\"Accuracy:  \", acc"
   ]
  },
  {
   "cell_type": "code",
   "execution_count": 193,
   "metadata": {
    "collapsed": false
   },
   "outputs": [
    {
     "name": "stdout",
     "output_type": "stream",
     "text": [
      "SCORE:  0.840909090909\n",
      "support [ True  True  True  True  True]\n",
      "Macro precision: 0.561538461538\n"
     ]
    }
   ],
   "source": [
    "#############play with pipeline\n",
    "# generate some data to play with\n",
    "from sklearn.pipeline import Pipeline\n",
    "\n",
    "# ANOVA (SelectKBest) -> NB\n",
    "anova_filter = SelectKBest(f_regression)\n",
    "clf = GaussianNB()\n",
    "features_train, features_test, labels_train, labels_test = \\\n",
    "    train_test_split(features, labels, test_size=0.3, random_state=42)\n",
    "\n",
    "# example is svs: clf = svm.SVC(kernel='linear')\n",
    "anova_nb = Pipeline([('anova', anova_filter), ('gnb', clf)])\n",
    "anova_nb.set_params(anova__k='all').fit(features_train,labels_train)\n",
    "                     \n",
    "\n",
    "\n",
    "prediction = anova_nb.predict(features_test)\n",
    "print \"SCORE: \", anova_nb.score(features_test, labels_test)                        \n",
    "\n",
    "# getting the selected features chosen by anova_filter\n",
    "print 'support', anova_nb.named_steps['anova'].get_support()\n",
    "\n",
    "# Another way to get selected features chosen by anova_filter\n",
    "#print \"support 2\", anova_nb.named_steps.anova.get_support()\n",
    "\n",
    "print \"Macro precision:\", precision_score(labels_test, prediction, average='macro')  \n",
    "\n",
    "#accuracy = clf.score(features_test, labels_test)\n",
    "\n",
    "#print(\"Accuracy is \", accuracy)"
   ]
  },
  {
   "cell_type": "code",
   "execution_count": 449,
   "metadata": {
    "collapsed": false
   },
   "outputs": [
    {
     "name": "stdout",
     "output_type": "stream",
     "text": [
      "[ 0.86138614  0.86138614  0.86138614  0.86138614  0.86138614  0.86138614\n",
      "  0.86138614  0.86138614  0.86138614  0.86138614  0.86138614  0.86138614\n",
      "  0.86138614  0.86138614  0.85148515  0.85148515  0.85148515  0.85148515\n",
      "  0.85148515  0.85148515  0.85148515  0.85148515  0.86138614  0.86138614\n",
      "  0.86138614  0.86138614  0.87128713  0.87128713  0.86138614  0.86138614\n",
      "  0.87128713  0.87128713  0.87128713  0.87128713  0.88118812  0.88118812\n",
      "  0.84158416  0.84158416  0.85148515  0.85148515  0.85148515  0.85148515\n",
      "  0.85148515  0.85148515  0.84158416  0.84158416  0.85148515  0.85148515\n",
      "  0.86138614  0.86138614  0.86138614  0.86138614  0.86138614  0.86138614\n",
      "  0.86138614  0.86138614  0.85148515  0.85148515  0.85148515  0.86138614\n",
      "  0.85148515  0.86138614  0.86138614  0.87128713  0.89108911  0.88118812\n",
      "  0.86138614  0.86138614  0.86138614  0.82178218  0.85148515  0.85148515]\n",
      "0.891089108911\n"
     ]
    },
    {
     "data": {
      "text/plain": [
       "{'classify__C': 100,\n",
       " 'reduce_dim': PCA(copy=True, iterated_power='auto', n_components=15, random_state=None,\n",
       "   svd_solver='auto', tol=0.0, whiten=False),\n",
       " 'reduce_dim__n_components': 15}"
      ]
     },
     "execution_count": 449,
     "metadata": {},
     "output_type": "execute_result"
    }
   ],
   "source": [
    "#play pipeline 2 with PCA() reduction\n",
    "from sklearn.decomposition import PCA\n",
    "from sklearn.svm import SVC\n",
    "from sklearn.model_selection import GridSearchCV\n",
    "\n",
    "\n",
    "## Load/Prepare dataset\n",
    "labels, features = feature_extraction(my_dataset, my_features)\n",
    "pipe = Pipeline([\n",
    "    ('reduce_dim', SelectKBest()),\n",
    "    ('classify', SVC())\n",
    "])\n",
    "S_FUNCTION = [f_classif, f_regression]\n",
    "N_FEATURES_OPTIONS = [3,5,7,9,10]\n",
    "C_OPTIONS = [1, 10, 100, 1000]\n",
    "param_grid = [\n",
    "        {\n",
    "        'reduce_dim': [SelectKBest()],\n",
    "        'reduce_dim__score_func': S_FUNCTION,\n",
    "        'reduce_dim__k': N_FEATURES_OPTIONS,\n",
    "        'classify__C': C_OPTIONS\n",
    "    },\n",
    "    {\n",
    "        'reduce_dim': [PCA()],\n",
    "        'reduce_dim__n_components': N_FEATURES_OPTIONS,\n",
    "        'classify__C': C_OPTIONS\n",
    "    },\n",
    "]\n",
    "\n",
    "grid = GridSearchCV(pipe, param_grid=param_grid)\n",
    "grid.fit(features_train, labels_train)\n",
    "\n",
    "mean_scores = np.array(grid.cv_results_['mean_test_score'])\n",
    "# scores are in the order of param_grid iteration, which is alphabetical\n",
    "#mean_scores = mean_scores.reshape(len(C_OPTIONS), -1, len(N_FEATURES_OPTIONS))\n",
    "# select score for best C\n",
    "#mean_scores = mean_scores.max(axis=0)\n",
    "\n",
    "print mean_scores\n",
    "print grid.best_score_\n",
    "grid.cv_results_['params'][grid.best_index_]"
   ]
  },
  {
   "cell_type": "code",
   "execution_count": 276,
   "metadata": {
    "collapsed": false
   },
   "outputs": [
    {
     "name": "stdout",
     "output_type": "stream",
     "text": [
      "Macro precision: 0.142857142857\n",
      "Micro precision: 0.795454545455\n",
      "Weighted precision: 0.848367848368\n",
      "Ave (none): 0.142857142857\n",
      "Macro recall: 0.25\n",
      "Micro recall: 0.795454545455\n",
      "Weighted recall: 0.795454545455\n",
      "Ave (none) recall: [ 0.85  0.25]\n"
     ]
    }
   ],
   "source": [
    "#########################################################\n",
    "### Task 5: Tune your classifier to achieve better than .3 precision and recall \n",
    "### using our testing script. Check the tester.py script in the final project\n",
    "### folder for details on the evaluation method, especially the test_classifier\n",
    "### function. Because of the small size of the dataset, the script uses\n",
    "### stratified shuffle split cross validation. For more info: \n",
    "### http://scikit-learn.org/stable/modules/generated/sklearn.cross_validation.StratifiedShuffleSplit.html\n",
    "\n",
    "\n",
    "labels, features = feature_extraction(my_dataset, my_features)\n",
    "\n",
    "#transform all data with SelectKBest, score_func chi2, k=2:\n",
    "\n",
    "reducer = SelectKBest(chi2, k=2)\n",
    "reducer = reducer.fit(features, labels)\n",
    "reduced = reducer.transform(features)\n",
    "\n",
    "\n",
    "#### Example starting point. Try investigating other evaluation techniques!\n",
    "\n",
    "\n",
    "## from sklearn.model_selection import train_test_split # also from \n",
    "## from sklearn.cross_validation import train_test_split\n",
    "## Split REDUCED data for validation studies\n",
    "features_train, features_test, labels_train, labels_test = split_sets(reduced, labels, 0.3, 42)\n",
    "#features_train, features_test, labels_train, labels_test = \\\n",
    "#    train_test_split(features, labels, test_size=0.3, random_state=42)\n",
    "\n",
    "def classifySVC(features_train, labels_train, penalty, gams, kern_type):\n",
    "    from sklearn.svm import SVC\n",
    "    clf = SVC(C=penalty, gamma = gams, kernel=kern_type)\n",
    "    clf = clf.fit(features_train, labels_train)\n",
    "    return clf \n",
    "\n",
    "### Precision & Recall Metrics\n",
    "def prec_recall(model, pred, labels_test)\n",
    "    from sklearn.metrics import precision_score, recall_score, f1_score\n",
    "    y_true = labels_test\n",
    "    y_pred = pred\n",
    "    print model \n",
    "    print \"Precision:\", precision_score(y_true, y_pred)  \n",
    "    print \"Recall:\", recall_score(y_true, y_pred)  \n",
    "    print \"F1 Score:\", f1_score(y_true, y_pred)  \n",
    "\n",
    "collection = [1000, 500, 10, 1]\n",
    "for penalties in collection:  \n",
    "    clf = classifySVC(features_train, labels_train, penalties, 0.9, 'rbf')\n",
    "\n",
    "    pred = clf.predict(features_test)\n",
    "    acc = accuracy_score(labels_test, pred)\n",
    "    print (penalties, \"Accuracy SVC:  \", acc)\n",
    "    accuracy = svc_clf.score(features_test, labels_test)\n",
    "    print(\"Accuracy is clf.score\", accuracy)\n",
    "    \n",
    "    \n",
    "## Optimize SVC\n",
    "\n",
    "\n",
    "pipe_SVC = Pipeline([\n",
    "        'reduce_dim', SelectKBest(chi2, k=2)),\n",
    "        ('classify', SVC())\n",
    "])\n",
    "\n",
    "\n",
    "C_OPTIONS = [1, 10, 100, 1000]\n",
    "KERNELS = ['linear', 'rbf', 'poly','sigmoid']\n",
    "GAMMA = ['auto', 'scale']\n",
    "\n",
    "\n",
    "param_grid = [\n",
    "        {\n",
    "        'classify__C': C_OPTIONS\n",
    "        'classify__kernel': KERNELS\n",
    "        'classify__gamma': GAMMA\n",
    "    },\n",
    "]\n",
    "\n",
    "grid = GridSearchCV(pipe, param_grid=param_grid)\n",
    "grid.fit(features_train, labels_train)\n",
    "\n",
    "mean_scores = np.array(grid.cv_results_['mean_test_score'])\n",
    "# scores are in the order of param_grid iteration, which is alphabetical\n",
    "#mean_scores = mean_scores.reshape(len(C_OPTIONS), -1, len(N_FEATURES_OPTIONS))\n",
    "# select score for best C\n",
    "#mean_scores = mean_scores.max(axis=0)\n",
    "\n",
    "print mean_scores\n",
    "print grid.best_score_\n",
    "grid.cv_results_['params'][grid.best_index_]\n",
    "    \n",
    "    "
   ]
  },
  {
   "cell_type": "code",
   "execution_count": 473,
   "metadata": {
    "collapsed": false
   },
   "outputs": [
    {
     "name": "stdout",
     "output_type": "stream",
     "text": [
      "101 101\n",
      "[ 0.00313781  0.00951147  0.09205549  0.28251383  0.01063392  0.02346504]\n",
      "<type 'numpy.ndarray'>\n",
      "# Tuning hyper-parameters for precision\n",
      "()\n",
      "Best parameters set found on development set:\n",
      "()\n",
      "{'kernel': 'linear', 'C': 100}\n",
      "()\n",
      "Grid scores on development set:\n",
      "()\n",
      "0.861 (+/-0.034) for {'kernel': 'rbf', 'C': 100, 'gamma': 0.001}\n",
      "0.861 (+/-0.034) for {'kernel': 'rbf', 'C': 100, 'gamma': 0.0001}\n",
      "0.871 (+/-0.042) for {'kernel': 'rbf', 'C': 100, 'gamma': 'auto'}\n",
      "0.861 (+/-0.034) for {'kernel': 'rbf', 'C': 350, 'gamma': 0.001}\n",
      "0.861 (+/-0.034) for {'kernel': 'rbf', 'C': 350, 'gamma': 0.0001}\n",
      "0.871 (+/-0.042) for {'kernel': 'rbf', 'C': 350, 'gamma': 'auto'}\n",
      "0.861 (+/-0.034) for {'kernel': 'rbf', 'C': 400, 'gamma': 0.001}\n",
      "0.861 (+/-0.034) for {'kernel': 'rbf', 'C': 400, 'gamma': 0.0001}\n",
      "0.871 (+/-0.042) for {'kernel': 'rbf', 'C': 400, 'gamma': 'auto'}\n",
      "0.861 (+/-0.034) for {'kernel': 'rbf', 'C': 450, 'gamma': 0.001}\n",
      "0.861 (+/-0.034) for {'kernel': 'rbf', 'C': 450, 'gamma': 0.0001}\n",
      "0.861 (+/-0.034) for {'kernel': 'rbf', 'C': 450, 'gamma': 'auto'}\n",
      "0.861 (+/-0.034) for {'kernel': 'rbf', 'C': 500, 'gamma': 0.001}\n",
      "0.861 (+/-0.034) for {'kernel': 'rbf', 'C': 500, 'gamma': 0.0001}\n",
      "0.861 (+/-0.034) for {'kernel': 'rbf', 'C': 500, 'gamma': 'auto'}\n",
      "0.861 (+/-0.034) for {'kernel': 'rbf', 'C': 750, 'gamma': 0.001}\n",
      "0.861 (+/-0.034) for {'kernel': 'rbf', 'C': 750, 'gamma': 0.0001}\n",
      "0.851 (+/-0.011) for {'kernel': 'rbf', 'C': 750, 'gamma': 'auto'}\n",
      "0.881 (+/-0.075) for {'kernel': 'linear', 'C': 100}\n",
      "0.881 (+/-0.075) for {'kernel': 'linear', 'C': 350}\n",
      "0.871 (+/-0.042) for {'kernel': 'linear', 'C': 400}\n",
      "0.871 (+/-0.042) for {'kernel': 'linear', 'C': 450}\n",
      "0.871 (+/-0.042) for {'kernel': 'linear', 'C': 500}\n",
      "0.871 (+/-0.042) for {'kernel': 'linear', 'C': 750}\n",
      "0.861 (+/-0.034) for {'kernel': 'poly', 'C': 1, 'gamma': 0.001, 'degree': 2}\n",
      "0.861 (+/-0.034) for {'kernel': 'poly', 'C': 1, 'gamma': 0.0001, 'degree': 2}\n",
      "0.861 (+/-0.034) for {'kernel': 'poly', 'C': 1, 'gamma': 'auto', 'degree': 2}\n",
      "0.861 (+/-0.034) for {'kernel': 'poly', 'C': 1, 'gamma': 0.001, 'degree': 3}\n",
      "0.861 (+/-0.034) for {'kernel': 'poly', 'C': 1, 'gamma': 0.0001, 'degree': 3}\n",
      "0.861 (+/-0.034) for {'kernel': 'poly', 'C': 1, 'gamma': 'auto', 'degree': 3}\n",
      "0.861 (+/-0.034) for {'kernel': 'poly', 'C': 1, 'gamma': 0.001, 'degree': 4}\n",
      "0.861 (+/-0.034) for {'kernel': 'poly', 'C': 1, 'gamma': 0.0001, 'degree': 4}\n",
      "0.861 (+/-0.034) for {'kernel': 'poly', 'C': 1, 'gamma': 'auto', 'degree': 4}\n",
      "0.861 (+/-0.034) for {'kernel': 'poly', 'C': 10, 'gamma': 0.001, 'degree': 2}\n",
      "0.861 (+/-0.034) for {'kernel': 'poly', 'C': 10, 'gamma': 0.0001, 'degree': 2}\n",
      "0.861 (+/-0.034) for {'kernel': 'poly', 'C': 10, 'gamma': 'auto', 'degree': 2}\n",
      "0.861 (+/-0.034) for {'kernel': 'poly', 'C': 10, 'gamma': 0.001, 'degree': 3}\n",
      "0.861 (+/-0.034) for {'kernel': 'poly', 'C': 10, 'gamma': 0.0001, 'degree': 3}\n",
      "0.861 (+/-0.034) for {'kernel': 'poly', 'C': 10, 'gamma': 'auto', 'degree': 3}\n",
      "0.861 (+/-0.034) for {'kernel': 'poly', 'C': 10, 'gamma': 0.001, 'degree': 4}\n",
      "0.861 (+/-0.034) for {'kernel': 'poly', 'C': 10, 'gamma': 0.0001, 'degree': 4}\n",
      "0.861 (+/-0.034) for {'kernel': 'poly', 'C': 10, 'gamma': 'auto', 'degree': 4}\n",
      "0.861 (+/-0.034) for {'kernel': 'poly', 'C': 100, 'gamma': 0.001, 'degree': 2}\n",
      "0.861 (+/-0.034) for {'kernel': 'poly', 'C': 100, 'gamma': 0.0001, 'degree': 2}\n",
      "0.861 (+/-0.034) for {'kernel': 'poly', 'C': 100, 'gamma': 'auto', 'degree': 2}\n",
      "0.861 (+/-0.034) for {'kernel': 'poly', 'C': 100, 'gamma': 0.001, 'degree': 3}\n",
      "0.861 (+/-0.034) for {'kernel': 'poly', 'C': 100, 'gamma': 0.0001, 'degree': 3}\n",
      "0.861 (+/-0.034) for {'kernel': 'poly', 'C': 100, 'gamma': 'auto', 'degree': 3}\n",
      "0.861 (+/-0.034) for {'kernel': 'poly', 'C': 100, 'gamma': 0.001, 'degree': 4}\n",
      "0.861 (+/-0.034) for {'kernel': 'poly', 'C': 100, 'gamma': 0.0001, 'degree': 4}\n",
      "0.861 (+/-0.034) for {'kernel': 'poly', 'C': 100, 'gamma': 'auto', 'degree': 4}\n",
      "0.861 (+/-0.034) for {'kernel': 'poly', 'C': 1000, 'gamma': 0.001, 'degree': 2}\n",
      "0.861 (+/-0.034) for {'kernel': 'poly', 'C': 1000, 'gamma': 0.0001, 'degree': 2}\n",
      "0.861 (+/-0.034) for {'kernel': 'poly', 'C': 1000, 'gamma': 'auto', 'degree': 2}\n",
      "0.861 (+/-0.034) for {'kernel': 'poly', 'C': 1000, 'gamma': 0.001, 'degree': 3}\n",
      "0.861 (+/-0.034) for {'kernel': 'poly', 'C': 1000, 'gamma': 0.0001, 'degree': 3}\n",
      "0.861 (+/-0.034) for {'kernel': 'poly', 'C': 1000, 'gamma': 'auto', 'degree': 3}\n",
      "0.861 (+/-0.034) for {'kernel': 'poly', 'C': 1000, 'gamma': 0.001, 'degree': 4}\n",
      "0.861 (+/-0.034) for {'kernel': 'poly', 'C': 1000, 'gamma': 0.0001, 'degree': 4}\n",
      "0.871 (+/-0.042) for {'kernel': 'poly', 'C': 1000, 'gamma': 'auto', 'degree': 4}\n",
      "()\n",
      "Detailed classification report:\n",
      "()\n",
      "The model is trained on the full development set.\n",
      "The scores are computed on the full evaluation set.\n",
      "()\n",
      "             precision    recall  f1-score   support\n",
      "\n",
      "        0.0       0.93      0.95      0.94        40\n",
      "        1.0       0.33      0.25      0.29         4\n",
      "\n",
      "avg / total       0.87      0.89      0.88        44\n",
      "\n",
      "()\n",
      "GridSearchCV(cv=5, error_score='raise',\n",
      "       estimator=SVC(C=1.0, cache_size=200, class_weight=None, coef0=0.0,\n",
      "  decision_function_shape=None, degree=3, gamma='auto', kernel='rbf',\n",
      "  max_iter=-1, probability=False, random_state=None, shrinking=True,\n",
      "  tol=0.001, verbose=False),\n",
      "       fit_params={}, iid=True, n_jobs=1,\n",
      "       param_grid=[{'kernel': ['rbf'], 'C': [100, 350, 400, 450, 500, 750], 'gamma': [0.001, 0.0001, 'auto']}, {'kernel': ['linear'], 'C': [100, 350, 400, 450, 500, 750]}, {'kernel': ['poly'], 'C': [1, 10, 100, 1000], 'gamma': [0.001, 0.0001, 'auto'], 'degree': [2, 3, 4]}],\n",
      "       pre_dispatch='2*n_jobs', refit=True, scoring=None, verbose=0)\n",
      "Precision: 0.333333333333\n",
      "Recall: 0.25\n",
      "F1 Score: 0.285714285714\n"
     ]
    }
   ],
   "source": [
    "##http://scikit-learn.org/0.16/auto_examples/model_selection/grid_search_digits.html#example-model-selection-grid-search-digits-py\n",
    "## \n",
    "\n",
    "from sklearn.cross_validation import train_test_split\n",
    "from sklearn.grid_search import GridSearchCV\n",
    "from sklearn.metrics import classification_report, precision_score, recall_score, f1_score\n",
    "from sklearn.svm import SVC\n",
    "\n",
    "def split_sets(features, labels, test_amt, r_state): \n",
    "    f_train, f_test, l_train, l_test = \\\n",
    "    train_test_split(features, labels, test_size=0.3, random_state=42)\n",
    "    return f_train, f_test, l_train, l_test\n",
    "\n",
    "## Load/Prepare dataset\n",
    "labels, features = feature_extraction(my_dataset, my_features)\n",
    "\n",
    "## Transform all data with chosen reducer -> :\n",
    "reducer = SelectKBest(f_regression, k=6)\n",
    "reducer = reducer.fit(features, labels)\n",
    "reduced = reducer.transform(features)\n",
    "#reducer = PCA(n_components = 2)\n",
    "#reducer = reducer.fit(features, labels)\n",
    "#reduced = reducer.transform(features)\n",
    "\n",
    "## Split dataset in two parts for cross validation\n",
    "features_train, features_test, labels_train, labels_test = split_sets(reduced, labels, 0.3, 42)\n",
    "print len(features_train), len(labels_train)\n",
    "print features_train[1]\n",
    "print type(features_train[1])\n",
    "\n",
    "\n",
    "\n",
    "## Set  parameters by cross-validation\n",
    "\n",
    "tune_parameters = [{'kernel': ['rbf'], 'C': [ 100, 350, 400, 450, 500, 750],\n",
    "                    'gamma': [1e-3, 1e-4, 'auto']\n",
    "                     },\n",
    "                   {'kernel': ['linear'], 'C': [ 100, 350, 400, 450, 500, 750]},\n",
    "                   {'kernel': ['poly'],\n",
    "                    'C': [1, 10, 100, 1000],'degree':[2,3,4],\n",
    "                    'gamma': [1e-3, 1e-4, 'auto']\n",
    "                     }\n",
    "                  ]\n",
    "\n",
    "scores = ['precision']\n",
    "\n",
    "for score in scores:\n",
    "    print(\"# Tuning hyper-parameters for %s\" % score)\n",
    "    print()\n",
    "\n",
    "    clf = GridSearchCV(SVC(), tune_parameters, cv=5)\n",
    "    clf.fit(features_train, labels_train)\n",
    "\n",
    "    print(\"Best parameters set found on development set:\")\n",
    "    print()\n",
    "    print(clf.best_params_)\n",
    "    print()\n",
    "    print(\"Grid scores on development set:\")\n",
    "    print()\n",
    "    for params, mean_score, scores in clf.grid_scores_:\n",
    "        print(\"%0.3f (+/-%0.03f) for %r\"\n",
    "              % (mean_score, scores.std() * 2, params))\n",
    "    print()\n",
    "\n",
    "    print(\"Detailed classification report:\")\n",
    "    print()\n",
    "    print(\"The model is trained on the full development set.\")\n",
    "    print(\"The scores are computed on the full evaluation set.\")\n",
    "    print()\n",
    "    y_true, y_pred = labels_test, clf.predict(features_test)\n",
    "    print(classification_report(y_true, y_pred))\n",
    "    print()\n",
    "\n",
    "## Precision Recall F1\n",
    "### Precision & Recall Metrics\n",
    "def prec_recall(model, pred, labels_test):\n",
    "    from sklearn.metrics import precision_score, recall_score, f1_score\n",
    "    y_true = labels_test\n",
    "    y_pred = pred\n",
    "    print model \n",
    "    print \"Precision:\", precision_score(y_true, y_pred)  \n",
    "    print \"Recall:\", recall_score(y_true, y_pred)  \n",
    "    print \"F1 Score:\", f1_score(y_true, y_pred)\n",
    "    \n",
    "    \n",
    "prec_recall(clf, y_pred, y_true)\n"
   ]
  },
  {
   "cell_type": "code",
   "execution_count": null,
   "metadata": {
    "collapsed": true
   },
   "outputs": [],
   "source": [
    "#########################################################\n",
    "### SVC classifier ###\n",
    "\n",
    "def classify(features_train, labels_train):\n",
    "    from sklearn.svm import SVC\n",
    "    clf = SVC(C=500, kernel='linear')\n",
    "    clf = clf.fit(features_train, labels_train)\n",
    "    return clf\n",
    "\n",
    "def submitAccuracy():\n",
    "    return acc\n",
    "\n",
    "#features_train = features_train[:len(features_train)/100] \n",
    "#labels_train = labels_train[:len(labels_train)/100] \n",
    "\n",
    "collection = [1000, 500, 10, 1]\n",
    "for penalties in collection:\n",
    "    t0 = time()   \n",
    "    svc_clf = classify(features_train, labels_train, penalties, 0.9, 'rbf')\n",
    "    print \"training time:\", round(time()-t0, 3), \"s\"\n",
    "\n",
    "    p0 = time()\n",
    "    pred = svc_clf.predict(features_test)\n",
    "    print \"prediction time:\", round(time()-p0, 3), \"s\"\n",
    "    acc = accuracy_score(labels_test, pred)\n",
    "    print (penalties, \"Accuracy SVC:  \", acc)\n",
    "    accuracy = svc_clf.score(features_test, labels_test)\n",
    "    print(\"Accuracy is clf.score\", accuracy)"
   ]
  },
  {
   "cell_type": "code",
   "execution_count": null,
   "metadata": {
    "collapsed": true
   },
   "outputs": [],
   "source": [
    "### Task 6: Dump your classifier, dataset, and features_list so anyone can\n",
    "### check your results. You do not need to change anything below, but make sure\n",
    "### that the version of poi_id.py that you submit can be run on its own and\n",
    "### generates the necessary .pkl files for validating your results.\n",
    "\n",
    "dump_classifier_and_data(clf, my_dataset, features_list)"
   ]
  }
 ],
 "metadata": {
  "anaconda-cloud": {},
  "kernelspec": {
   "display_name": "Python [Root]",
   "language": "python",
   "name": "Python [Root]"
  },
  "language_info": {
   "codemirror_mode": {
    "name": "ipython",
    "version": 2
   },
   "file_extension": ".py",
   "mimetype": "text/x-python",
   "name": "python",
   "nbconvert_exporter": "python",
   "pygments_lexer": "ipython2",
   "version": "2.7.12"
  }
 },
 "nbformat": 4,
 "nbformat_minor": 0
}
