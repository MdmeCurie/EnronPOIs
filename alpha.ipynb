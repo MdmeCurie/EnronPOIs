{
 "cells": [
  {
   "cell_type": "code",
   "execution_count": 2,
   "metadata": {
    "collapsed": true
   },
   "outputs": [],
   "source": [
    "%matplotlib inline"
   ]
  },
  {
   "cell_type": "code",
   "execution_count": 85,
   "metadata": {
    "collapsed": false
   },
   "outputs": [],
   "source": [
    "# %load poi_id.py\n",
    "#!/usr/bin/python\n",
    "\n",
    "import sys\n",
    "import pickle\n",
    "sys.path.append(\"../tools/\")\n",
    "\n",
    "from feature_format import featureFormat, targetFeatureSplit\n",
    "from tester import dump_classifier_and_data\n",
    "\n",
    "### Task 1: Select what features you'll use.\n",
    "### features_list is a list of strings, each of which is a feature name.\n",
    "### The first feature must be \"poi\". # You will need to use more features\n",
    "##### 'email_address' fails featureFormat() as it is string not float, all other features imported for \n",
    "##### initial testing and investigations\n",
    "features_list = ['poi', 'salary', 'bonus','deferral_payments','total_payments',  \n",
    "                 'exercised_stock_options','restricted_stock','total_stock_value',\n",
    "                 'expenses','deferred_income',\n",
    "                 'long_term_incentive', 'other',\n",
    "                 'restricted_stock_deferred', 'loan_advances', 'director_fees', \n",
    "                 'to_messages', 'shared_receipt_with_poi','from_messages',      \n",
    "                 'from_this_person_to_poi', 'from_poi_to_this_person'             \n",
    "                ] \n",
    "\n",
    "### Load the dictionary containing the dataset\n",
    "with open(\"final_project_dataset.pkl\", \"r\") as data_file:\n",
    "    data_dict = pickle.load(data_file)\n",
    "\n",
    "### Task 2: Remove outliers - remove TOTAL from financials    \n",
    "total_financials = data_dict.pop('TOTAL')\n",
    "### Negative outliers found in deferred_income and restricted stock deferred\n",
    "### Entries for 'BELFER ROBERT' & 'BHATANGAR SANJAY' corrected as confirmed by enron61702insiderpay.pdf\n",
    "\n",
    "data_dict['BELFER ROBERT']['deferred_income']  = -102500\n",
    "data_dict['BELFER ROBERT']['deferral_payments']= 'NaN'\n",
    "data_dict['BELFER ROBERT']['expenses'] = 3285\n",
    "data_dict['BELFER ROBERT']['director_fees'] = 102500 \n",
    "data_dict['BELFER ROBERT']['total_payments'] = 3285\n",
    "data_dict['BELFER ROBERT']['exercised_stock_options']= 'NaN'\n",
    "data_dict['BELFER ROBERT']['restricted_stock']= 44093\n",
    "data_dict['BELFER ROBERT']['restricted_stock_deferred']= -44093\n",
    "data_dict['BELFER ROBERT']['total_stock_value'] = 'NaN'\n",
    "\n",
    "data_dict['BHATNAGAR SANJAY']['other']= 'NaN' \n",
    "data_dict['BHATNAGAR SANJAY']['expenses']= 137864\n",
    "data_dict['BHATNAGAR SANJAY']['director_fees']= 'NaN'\n",
    "data_dict['BHATNAGAR SANJAY']['total_payments']= 137864\n",
    "data_dict['BHATNAGAR SANJAY']['exercised_stock_options']= 15456290 \n",
    "data_dict['BHATNAGAR SANJAY']['restricted_stock']= 2604490\n",
    "data_dict['BHATNAGAR SANJAY']['restricted_stock_deferred']= -2604490\n",
    "data_dict['BHATNAGAR SANJAY']['total_stock_value']= 15456290\n"
   ]
  },
  {
   "cell_type": "code",
   "execution_count": 86,
   "metadata": {
    "collapsed": false
   },
   "outputs": [],
   "source": [
    "### Task 3: Create new feature(s)\n",
    "\n",
    "## create dataframe of dict with features as cols and names as index\n",
    "#https://stackoverflow.com/questions/13575090/construct-pandas-dataframe-from-items-in-nested-dictionary\n",
    "from __future__ import division\n",
    "import numpy as np\n",
    "import pandas as pd\n",
    "\n",
    "df_data = pd.DataFrame.from_dict({(i): data_dict[i]\n",
    "                           for i in data_dict.keys()},\n",
    "                           orient='index')\n",
    "\n",
    "\n",
    "#list of features that are numbers\n",
    "numbers = list(df_data)  \n",
    "numbers.remove('email_address') \n",
    "numbers.remove('poi')\n",
    "\n",
    "#ensure pd.dataframe values are 'float' for mathematical operations\n",
    "for trait in [numbers]:\n",
    "    df_data[trait] = df_data[trait].astype('float')\n",
    "\n",
    "# new features:\n",
    " \n",
    "df_data['take_home'] = df_data['salary'] + df_data['bonus']\n",
    "df_data['percent_exercised'] = df_data['exercised_stock_options']/df_data['total_stock_value']\n",
    "df_data['response_rate'] = df_data['from_messages']/df_data['to_messages']\n",
    "df_data['poi_response'] = df_data['from_this_person_to_poi']/df_data['from_poi_to_this_person']\n",
    "\n",
    "new_features=['take_home', 'percent_exercised', 'response_rate', 'poi_response']\n",
    "numbers = numbers + new_features \n",
    "\n",
    "##Replace inf with NaN\n",
    "#df_data.dropna(0,'all') -> no rows with all empty features\n",
    "df_data = df_data.replace(np.inf, np.nan)\n",
    "#df_data.plot.box(rot=90)\n",
    "\n",
    "##Data Prepocessing: Imputation and Scaling \n",
    "imputed_data = df_data.copy()\n",
    "for col in numbers:\n",
    "    ave =  imputed_data[col].mean()\n",
    "    imputed_data[col] = imputed_data[col].replace(np.nan, ave)\n",
    "\n",
    "#print imputed_data.describe()\n",
    "#imputed_data.plot.box(rot=90)\n",
    "\n",
    "## Scale in pd.dataframe MinMaxScaler-type for all features\n",
    "scaled_data = imputed_data.copy()\n",
    "scaled_data = ((imputed_data - imputed_data.min())/(imputed_data.max()-imputed_data.min())).astype('float')\n",
    "\n",
    "#my_features = ['poi','exercised_stock_options', 'take_home','salary','total_payments',\n",
    "#               'long_term_incentive','deferred_income','shared_receipt_with_poi', 'from_poi_to_this_person',\n",
    "#               'from_this_person_to_poi','from_messages','to_messages','percent_exercised'] \n",
    "\n",
    "## Removed features: \n",
    "## 'restricted_stock_deferred', 17 entries; 'loan_advances', 3 entries; 'director_fees',16 entries\n",
    "##  'deferral_payments, 38 entries (73% NaNs)\n",
    "##      -limited entries <10%, 2 have no POIs to classify on\n",
    "my_features = ['poi','salary', 'bonus','total_payments',  \n",
    "               'exercised_stock_options','restricted_stock','total_stock_value',\n",
    "               'expenses','deferred_income',\n",
    "               'long_term_incentive', 'other',\n",
    "               'to_messages', 'shared_receipt_with_poi','from_messages',      \n",
    "               'from_this_person_to_poi', 'from_poi_to_this_person',\n",
    "              # 'restricted_stock_deferred','loan_advances','director_fees', #Removed - too few points\n",
    "              # 'deferral_payments',\n",
    "              'take_home', 'percent_exercised', 'response_rate', 'poi_response' # New features\n",
    "              ]\n",
    "\n",
    "## Store new features and corrections to my_dataset dictionary for easy export below.\n",
    "my_data_imputed = imputed_data.to_dict(orient='index')\n",
    "my_dataset = scaled_data.to_dict(orient='index')\n"
   ]
  },
  {
   "cell_type": "code",
   "execution_count": 87,
   "metadata": {
    "collapsed": false
   },
   "outputs": [],
   "source": [
    "### Separate Labels,Features\n",
    "### Split sets for train/test data \n",
    "\n",
    "### Extract features and labels from dataset for local testing\n",
    "def feature_extraction(mydata_dict, features_lineup):\n",
    "    data = featureFormat(mydata_dict, features_lineup, sort_keys = True)\n",
    "    labels, features = targetFeatureSplit(data)\n",
    "    return labels,features\n",
    "\n",
    "def split_sets(features, labels, test_amt, r_state): \n",
    "    from sklearn.cross_validation import train_test_split\n",
    "    f_train, f_test, l_train, l_test = \\\n",
    "    train_test_split(features, labels, test_size=test_amt, random_state=r_state)\n",
    "    return f_train, f_test, l_train, l_test   \n",
    "\n",
    "\n",
    "\n",
    "labels, features = feature_extraction(my_dataset, my_features)\n",
    "features_train, features_test, labels_train, labels_test = split_sets(features, labels, 0.3, 42)"
   ]
  },
  {
   "cell_type": "code",
   "execution_count": 88,
   "metadata": {
    "collapsed": false
   },
   "outputs": [
    {
     "name": "stdout",
     "output_type": "stream",
     "text": [
      "VarianceThreshold:\n",
      "2 total_payments 0.00701774170406\n",
      "17 response_rate 0.00872125736411\n",
      "12 from_messages 0.00964067890612\n",
      "9 other 0.0112865940958\n",
      "8 long_term_incentive 0.0127547254362\n",
      "18 poi_response 0.0138938560388\n",
      "5 total_stock_value 0.0155315859128\n",
      "13 from_this_person_to_poi 0.0158289148948\n",
      "14 from_poi_to_this_person 0.0159079544005\n",
      "0 salary 0.0163097677222\n",
      "4 restricted_stock 0.0170307112056\n",
      "10 to_messages 0.0171674418646\n",
      "1 bonus 0.0182353044714\n",
      "3 exercised_stock_options 0.0185360298835\n",
      "15 take_home 0.0196470077065\n",
      "7 deferred_income 0.0235621082693\n",
      "11 shared_receipt_with_poi 0.0267211346123\n",
      "6 expenses 0.0273537619761\n",
      "16 percent_exercised 0.0504267569086\n",
      "########  SelectKBest:\n",
      "percent_exercised score:  0.00132141741985 0.971052936222\n",
      "to_messages score:  0.370461777688 0.543718301293\n",
      "expenses score:  0.405485442931 0.525287901605\n",
      "from_messages score:  0.58945562335 0.443895601483\n",
      "poi_response score:  0.657418845918 0.418820057253\n",
      "response_rate score:  0.72703437007 0.395272007919\n",
      "from_this_person_to_poi score:  1.36907113773 0.243917922245\n",
      "other score:  1.89263889899 0.171055559042\n",
      "from_poi_to_this_person score:  3.05457092799 0.0826566942752\n",
      "shared_receipt_with_poi score:  5.7652373136 0.0176315750367\n",
      "deferred_income score:  5.86632518771 0.0166851706786\n",
      "long_term_incentive score:  6.00007938769 0.0155137082597\n",
      "restricted_stock score:  6.58007383954 0.0113428038865\n",
      "total_payments score:  8.35618192892 0.00444380848503\n",
      "salary score:  9.45493048777 0.00252318885358\n",
      "bonus score:  11.5054132086 0.00089764854284\n",
      "take_home score:  12.2881436966 0.000609173202359\n",
      "total_stock_value score:  19.9864365766 1.57623825499e-05\n",
      "exercised_stock_options score:  26.337749095 9.18863764631e-07\n",
      "##########  SelectPercentile:\n",
      "percent_exercised score:  0.00211323917483 0.971052936222\n",
      "to_messages score:  0.0438358550458 0.543718301293\n",
      "expenses score:  0.0463167522012 0.525287901605\n",
      "from_messages score:  0.0584286617954 0.443895601483\n",
      "poi_response score:  0.062611935005 0.418820057253\n",
      "response_rate score:  0.0667750056349 0.395272007919\n",
      "from_this_person_to_poi score:  0.101504352888 0.243917922245\n",
      "other score:  0.127032418159 0.171055559042\n",
      "from_poi_to_this_person score:  0.179355144654 0.0826566942752\n",
      "shared_receipt_with_poi score:  0.290505523203 0.0176315750367\n",
      "deferred_income score:  0.294474622579 0.0166851706786\n",
      "long_term_incentive score:  0.299711718587 0.0155137082597\n",
      "restricted_stock score:  0.322239605639 0.0113428038865\n",
      "total_payments score:  0.38965421869 0.00444380848503\n",
      "salary score:  0.430372423393 0.00252318885358\n",
      "bonus score:  0.504724270149 0.00089764854284\n",
      "take_home score:  0.532614371815 0.000609173202359\n",
      "total_stock_value score:  0.795523921282 1.57623825499e-05\n",
      "exercised_stock_options score:  1.0 9.18863764631e-07\n"
     ]
    }
   ],
   "source": [
    "from sklearn.feature_selection import VarianceThreshold\n",
    "from sklearn.feature_selection import SelectKBest, f_regression\n",
    "from sklearn.feature_selection import SelectPercentile, f_classif, chi2\n",
    "\n",
    "## Rank Features with various Feature Selection Methods\n",
    "## Create VarianceThreshold object to rank feature variances\n",
    "thresholder = VarianceThreshold()\n",
    "high_variance = thresholder.fit(features)\n",
    "## List Features with Ranked variances (ascending)\n",
    "t_vars = thresholder.variances_\n",
    "t_vars_sort = np.argsort(thresholder.variances_)\n",
    "print \"VarianceThreshold:\"\n",
    "for i in t_vars_sort:\n",
    "    print i, my_features[i+1], t_vars[i]\n",
    "\n",
    "######################\n",
    "## KBest takes Featues, target(labels), select k features\n",
    "kbest = SelectKBest(f_regression).fit(features, labels)\n",
    "k_scoresort = np.argsort(kbest.scores_)\n",
    "k_pvals  = kbest.pvalues_\n",
    "print \"########  SelectKBest:\"\n",
    "for f in k_scoresort:\n",
    "    print my_features[f+1], 'score: ', kbest.scores_[f], k_pvals[f]\n",
    "\n",
    "#####################    \n",
    "## Select Percentile, default selection function: the 10% most significant features\n",
    "selector = SelectPercentile(f_classif, percentile=10)\n",
    "selector.fit(features, labels)\n",
    "scores = -np.log10(selector.pvalues_)\n",
    "scores /= scores.max()\n",
    "print \"##########  SelectPercentile:\"\n",
    "for f in np.argsort(scores):\n",
    "    print my_features[f+1], 'score: ', scores[f], k_pvals[f]\n"
   ]
  },
  {
   "cell_type": "code",
   "execution_count": 89,
   "metadata": {
    "collapsed": false
   },
   "outputs": [
    {
     "name": "stdout",
     "output_type": "stream",
     "text": [
      "('take_home', 'bonus') 0.995309445937\n",
      "('bonus', 'take_home') 0.995309445937\n",
      "('total_stock_value', 'exercised_stock_options') 0.938867717086\n",
      "('exercised_stock_options', 'total_stock_value') 0.938867717086\n",
      "('from_messages', 'response_rate') 0.926513951173\n",
      "('response_rate', 'from_messages') 0.926513951173\n",
      "('to_messages', 'shared_receipt_with_poi') 0.847990014598\n",
      "('shared_receipt_with_poi', 'to_messages') 0.847990014598\n",
      "('other', 'total_payments') 0.826466938137\n",
      "('total_payments', 'other') 0.826466938137\n"
     ]
    },
    {
     "data": {
      "text/plain": [
       "<matplotlib.axes._subplots.AxesSubplot at 0x114b33a90>"
      ]
     },
     "execution_count": 89,
     "metadata": {},
     "output_type": "execute_result"
    },
    {
     "data": {
      "image/png": "[encoded data removed]",
      "text/plain": [
       "<matplotlib.figure.Figure at 0x11a270890>"
      ]
     },
     "metadata": {},
     "output_type": "display_data"
    }
   ],
   "source": [
    "## Review Features: correlation matrix pandas, boxplot, statistics\n",
    "## https://stackoverflow.com/questions/17778394/list-highest-correlation-pairs-from-a-large-correlation-matrix-in-pandas\n",
    "\n",
    "#scaled_data.describe()\n",
    "\n",
    "s= scaled_data.corr()\n",
    "s_order = s.unstack().sort_values(ascending=False)\n",
    "\n",
    "for key, value in s_order.iteritems():\n",
    "    if value > 0.8 and value !=1:\n",
    "        print key, value\n",
    "        \n",
    "scaled_data[my_features].plot.box(rot=90)"
   ]
  },
  {
   "cell_type": "code",
   "execution_count": 386,
   "metadata": {
    "collapsed": false
   },
   "outputs": [
    {
     "name": "stdout",
     "output_type": "stream",
     "text": [
      "Features:  6\n"
     ]
    }
   ],
   "source": [
    "## my_features top scores from Variance Threshold, SelectKBest/SelectPercentile Order, remove high correlation\n",
    "#my_features = ['poi','exercised_stock_options', 'total_stock_value',\n",
    "#               'salary','bonus', 'total_payments',\n",
    "#               'restricted_stock','long_term_incentive',\n",
    "#               'deferred_income','shared_receipt_with_poi',\n",
    "#               'from_poi_to_this_person',\n",
    "#               'other', 'from_this_person_to_poi', 'from_messages', 'expenses'\n",
    "#                ]\n",
    "\n",
    "my_features = ['poi', 'exercised_stock_options', 'take_home',\n",
    "               'salary', 'total_payments',\n",
    "               'restricted_stock','long_term_incentive',\n",
    "               #'deferred_income','shared_receipt_with_poi',\n",
    "               #'from_poi_to_this_person', 'other', \n",
    "               #'from_this_person_to_poi'\n",
    "              ]\n",
    "\n",
    "labels, features = feature_extraction(my_dataset, my_features)\n",
    "features_train, features_test, labels_train, labels_test = split_sets(features, labels, 0.3, 42)\n",
    "print \"Features: \", len(my_features)-1"
   ]
  },
  {
   "cell_type": "code",
   "execution_count": null,
   "metadata": {
    "collapsed": false
   },
   "outputs": [],
   "source": [
    "from sklearn.cross_validation import StratifiedShuffleSplit\n",
    "\n",
    "## Function: test_classifier(clf, dataset, feature_list, folds)\n",
    "def test_classifier(clf, dataset, feature_list, folds):\n",
    "    data = featureFormat(dataset, feature_list, sort_keys = True)\n",
    "    labels, features = targetFeatureSplit(data)\n",
    "    cv = StratifiedShuffleSplit(labels, folds, random_state = 42)\n",
    "    true_negatives = 0\n",
    "    false_negatives = 0\n",
    "    true_positives = 0\n",
    "    false_positives = 0\n",
    "    for train_idx, test_idx in cv: \n",
    "        features_train = []\n",
    "        features_test  = []\n",
    "        labels_train   = []\n",
    "        labels_test    = []\n",
    "        for ii in train_idx:\n",
    "            features_train.append( features[ii] )\n",
    "            labels_train.append( labels[ii] )\n",
    "        for jj in test_idx:\n",
    "            features_test.append( features[jj] )\n",
    "            labels_test.append( labels[jj] )\n",
    "        \n",
    "        ### fit the classifier using training set, and test on test set\n",
    "        clf.fit(features_train, labels_train)\n",
    "        predictions = clf.predict(features_test)\n",
    "        for prediction, truth in zip(predictions, labels_test):\n",
    "            if prediction == 0 and truth == 0:\n",
    "                true_negatives += 1\n",
    "            elif prediction == 0 and truth == 1:\n",
    "                false_negatives += 1\n",
    "            elif prediction == 1 and truth == 0:\n",
    "                false_positives += 1\n",
    "            elif prediction == 1 and truth == 1:\n",
    "                true_positives += 1\n",
    "            else:\n",
    "                print \"Warning: Found a predicted label not == 0 or 1.\"\n",
    "                print \"All predictions should take value 0 or 1.\"\n",
    "                print \"Evaluating performance for processed predictions:\"\n",
    "                break\n",
    "    try:\n",
    "        total_predictions = true_negatives + false_negatives + false_positives + true_positives\n",
    "        accuracy = 1.0*(true_positives + true_negatives)/total_predictions\n",
    "        precision = 1.0*true_positives/(true_positives+false_positives)\n",
    "        recall = 1.0*true_positives/(true_positives+false_negatives)\n",
    "        f1 = 2.0 * true_positives/(2*true_positives + false_positives+false_negatives)\n",
    "        f2 = (1+2.0*2.0) * precision*recall/(4*precision + recall)\n",
    "        print clf\n",
    "        print PERF_FORMAT_STRING.format(accuracy, precision, recall, f1, f2, display_precision = 5)\n",
    "        print RESULTS_FORMAT_STRING.format(total_predictions, true_positives, false_positives, false_negatives, true_negatives)\n",
    "        print \"\"\n",
    "    except:\n",
    "        print \"Got a divide by zero when trying out:\", clf\n",
    "        print \"Precision or recall may be undefined due to a lack of true positive predicitons.\""
   ]
  },
  {
   "cell_type": "code",
   "execution_count": 388,
   "metadata": {
    "collapsed": false
   },
   "outputs": [
    {
     "name": "stdout",
     "output_type": "stream",
     "text": [
      "Pipeline Feature Reductions PCA()/SelectKBest with SCV classifier\n",
      "[ 0.86733333  0.86733333  0.83933333  0.83933333  0.85666667  0.85666667\n",
      "  0.87066667  0.86333333  0.848     ]\n",
      "0.870666666667\n"
     ]
    },
    {
     "data": {
      "text/plain": [
       "{'reduce_dim': PCA(copy=True, iterated_power='auto', n_components=1, random_state=None,\n",
       "   svd_solver='auto', tol=0.0, whiten=False), 'reduce_dim__n_components': 1}"
      ]
     },
     "execution_count": 388,
     "metadata": {},
     "output_type": "execute_result"
    }
   ],
   "source": [
    "###########################\n",
    "## Pipeline for feature reduction with PCA()/SelectKBest\n",
    "## http://scikit-learn.org/stable/auto_examples/compose/plot_compare_reduction.html\n",
    "#sphx-glr-auto-examples-compose-plot-compare-reduction-py\n",
    "from sklearn.pipeline import Pipeline\n",
    "from sklearn.model_selection import GridSearchCV\n",
    "from sklearn.decomposition import PCA\n",
    "from sklearn.svm import SVC\n",
    "\n",
    "sss = StratifiedShuffleSplit(labels, 100, random_state = 42)\n",
    "\n",
    "pipe = Pipeline([\n",
    "    ('reduce_dim', SelectKBest()),\n",
    "    ('classify', GaussianNB())\n",
    "])\n",
    "\n",
    "N_FEATURES_OPTIONS = [1, 3, 5]\n",
    "S_FUNC = [f_regression, f_classif]\n",
    "C_OPTIONS = [5, 10, 25, 50]\n",
    "param_grid = [\n",
    "    {\n",
    "        'reduce_dim': [SelectKBest()],\n",
    "        'reduce_dim__k': N_FEATURES_OPTIONS,\n",
    "        'reduce_dim__score_func': S_FUNC,\n",
    "    #    'classify__C': C_OPTIONS\n",
    "    },\n",
    "    {\n",
    "        'reduce_dim': [PCA()],\n",
    "        'reduce_dim__n_components': N_FEATURES_OPTIONS,\n",
    "    #    'classify__C': C_OPTIONS\n",
    "    }, \n",
    "\n",
    "]\n",
    "## Function: test_classifier(clf, dataset, feature_list, folds)\n",
    "grid = GridSearchCV(pipe, param_grid=param_grid, cv=sss)\n",
    "grid.fit(features, labels)\n",
    "\n",
    "mean_scores = np.array(grid.cv_results_['mean_test_score'])\n",
    "# scores are in the order of param_grid iteration, which is alphabetical\n",
    "#mean_scores = mean_scores.reshape(len(C_OPTIONS), -1, len(N_FEATURES_OPTIONS))\n",
    "# select score for best C\n",
    "#mean_scores = mean_scores.max(axis=0)\n",
    "print \"Pipeline Feature Reductions PCA()/SelectKBest with SCV classifier\"\n",
    "print mean_scores\n",
    "print grid.best_score_\n",
    "grid.cv_results_['params'][grid.best_index_]"
   ]
  },
  {
   "cell_type": "code",
   "execution_count": 396,
   "metadata": {
    "collapsed": false
   },
   "outputs": [
    {
     "name": "stdout",
     "output_type": "stream",
     "text": [
      "[ 0.0072226   0.16346077  0.25532535  0.00176051  0.07823137  0.13342003]\n"
     ]
    }
   ],
   "source": [
    "print features[1]"
   ]
  },
  {
   "cell_type": "code",
   "execution_count": 398,
   "metadata": {
    "collapsed": false
   },
   "outputs": [
    {
     "name": "stdout",
     "output_type": "stream",
     "text": [
      "Pipeline with various classifiers\n",
      "[ 0.87866667  0.878       0.86866667  0.86866667  0.86933333  0.86733333\n",
      "  0.84133333  0.852       0.85133333  0.85133333  0.848       0.87066667\n",
      "  0.86        0.86666667  0.846       0.86666667  0.846       0.83866667\n",
      "  0.83666667  0.83666667]\n",
      "0.878666666667\n"
     ]
    },
    {
     "data": {
      "text/plain": [
       "{'classify': SVC(C=5, cache_size=200, class_weight=None, coef0=0.0,\n",
       "   decision_function_shape=None, degree=3, gamma='auto', kernel='rbf',\n",
       "   max_iter=-1, probability=False, random_state=None, shrinking=True,\n",
       "   tol=0.001, verbose=False), 'classify__C': 5, 'reduce_dim__k': 1}"
      ]
     },
     "execution_count": 398,
     "metadata": {},
     "output_type": "execute_result"
    }
   ],
   "source": [
    "## Pipeline for classifier selection with one feature reduction\n",
    "\n",
    "from sklearn.naive_bayes import GaussianNB\n",
    "from sklearn import tree, neighbors\n",
    "from sklearn.ensemble import RandomForestClassifier, AdaBoostClassifier\n",
    "from sklearn.svm import SVC\n",
    "\n",
    "sss = StratifiedShuffleSplit(labels, 100, random_state = 42)\n",
    "pipe2 = Pipeline([\n",
    "    ('reduce_dim', SelectKBest()),\n",
    "    ('classify', GaussianNB())\n",
    "])\n",
    "\n",
    "N_FEATURES_OPTIONS = [1]\n",
    "C_OPTIONS = [5, 10, 25, 50, 100]\n",
    "SPLITS = [2, 10, 15, 20]\n",
    "WEIGHTS = ['distance', 'uniform']\n",
    "NACHBARN = [5, 10, 50]\n",
    "ESTIMATES = [2,10,25,50]\n",
    "\n",
    "param_grid = [\n",
    "    {\n",
    "       'reduce_dim__k': N_FEATURES_OPTIONS,\n",
    "    #    'reduce_dim__n_components': N_FEATURES_OPTIONS,\n",
    "        'classify': [SVC()],\n",
    "        'classify__C': C_OPTIONS \n",
    "    },\n",
    "    {\n",
    "        'reduce_dim__k': N_FEATURES_OPTIONS,\n",
    "    #    'reduce_dim__n_components': N_FEATURES_OPTIONS, \n",
    "        'classify': [GaussianNB()]\n",
    "    },\n",
    "    {\n",
    "        'reduce_dim__k': N_FEATURES_OPTIONS,\n",
    "    #    'reduce_dim__n_components': N_FEATURES_OPTIONS,\n",
    "        'classify': [tree.DecisionTreeClassifier()],\n",
    "        'classify__min_samples_split': SPLITS \n",
    "    },\n",
    "    {\n",
    "       'reduce_dim__k': N_FEATURES_OPTIONS,\n",
    "    #    'reduce_dim__n_components': N_FEATURES_OPTIONS,\n",
    "        'classify': [neighbors.KNeighborsClassifier()],\n",
    "        'classify__n_neighbors': NACHBARN,\n",
    "        'classify__weights': WEIGHTS\n",
    "    },\n",
    "    {\n",
    "        'reduce_dim__k': N_FEATURES_OPTIONS,\n",
    "    #    'reduce_dim__n_components': N_FEATURES_OPTIONS,\n",
    "        'classify': [RandomForestClassifier()],\n",
    "        'classify__n_estimators': ESTIMATES\n",
    "    },\n",
    "    #{\n",
    "    #    'reduce_dim__k': N_FEATURES_OPTIONS,\n",
    "    #    'reduce_dim__n_components': N_FEATURES_OPTIONS,\n",
    "    #    'classify': [AdaBoostClassifier()],\n",
    "    #    'classify__n_estimators': ESTIMATES\n",
    "    #}\n",
    "]\n",
    "\n",
    "\n",
    "\n",
    "grid = GridSearchCV(pipe2, param_grid=param_grid, cv= sss)\n",
    "grid.fit(features, labels)\n",
    "\n",
    "mean_scores = np.array(grid.cv_results_['mean_test_score'])\n",
    "# scores are in the order of param_grid iteration, which is alphabetical\n",
    "#mean_scores = mean_scores.reshape(len(C_OPTIONS), -1, len(N_FEATURES_OPTIONS))\n",
    "# select score for best C\n",
    "#mean_scores = mean_scores.max(axis=0)\n",
    "print \"Pipeline with various classifiers\"\n",
    "print mean_scores\n",
    "print grid.best_score_\n",
    "grid.cv_results_['params'][grid.best_index_]"
   ]
  },
  {
   "cell_type": "code",
   "execution_count": null,
   "metadata": {
    "collapsed": false
   },
   "outputs": [
    {
     "name": "stdout",
     "output_type": "stream",
     "text": [
      "Parameter Tuning\n",
      "\n"
     ]
    }
   ],
   "source": [
    "#########################################################\n",
    "### Task 5: Tune your classifier to achieve better than .3 precision and recall \n",
    "### using our testing script. Check the tester.py script in the final project\n",
    "### folder for details on the evaluation method, especially the test_classifier\n",
    "### function. Because of the small size of the dataset, the script uses\n",
    "### stratified shuffle split cross validation. For more info: \n",
    "### http://scikit-learn.org/stable/modules/generated/sklearn.cross_validation.StratifiedShuffleSplit.html\n",
    "\n",
    "##http://scikit-learn.org/0.16/auto_examples/model_selection/grid_search_digits.html#example-model-selection-grid-search-digits-py\n",
    "## \n",
    "\n",
    "from sklearn.metrics import classification_report, precision_score, recall_score, f1_score\n",
    "from sklearn.svm import SVC\n",
    "\n",
    "\n",
    "## Load/Prepare dataset\n",
    "labels, features = feature_extraction(my_data_imputed, my_features)\n",
    "#labels, features = feature_extraction(my_dataset, my_features)\n",
    "\n",
    "## Transform all data with chosen reducer -> :\n",
    "#reducer = SelectKBest(f_regression, k=10)\n",
    "#reducer = reducer.fit(features, labels)\n",
    "#reduced = reducer.transform(features)\n",
    "#reducer = PCA(n_components = 15)\n",
    "#reducer = reducer.fit(features, labels)\n",
    "#reduced = reducer.transform(features)\n",
    "\n",
    "## Split dataset in two parts for cross validation\n",
    "#features_train, features_test, labels_train, labels_test = split_sets(reduced, labels, 0.3, 42)\n",
    "\n",
    "sss = StratifiedShuffleSplit(labels, 100, random_state = 42)\n",
    "\n",
    "\n",
    "pipe3 = Pipeline([\n",
    "    ('reduce_dim', SelectKBest(k=1)),\n",
    "    ('classify', SVC())\n",
    "])\n",
    "\n",
    "\n",
    "## Set tuning parameters for cross-validation\n",
    "\n",
    "cees = [1, 3, 5, 10, 25] # C values\n",
    "kay = [1,3,6]\n",
    "tune_SVCparameters = [{'classify__kernel': ['rbf'],\n",
    "                       'classify__C': cees,\n",
    "                       'classify__gamma': [1e-5, 1e-6, 'auto']\n",
    "                      },\n",
    "                      {'classify__kernel': ['linear'],\n",
    "                       'classify__C': cees},\n",
    "                      {'classify__kernel': ['poly'],   \n",
    "                       'classify__C': cees, \n",
    "                       'classify__degree':[3, 4, 5],\n",
    "                       'classify__gamma': [1e-5, 1e-6, 'auto']\n",
    "                      }\n",
    "                     ]\n",
    "\n",
    "tune_RFparameters = [{'n_estimators': [9,10,12,15],\n",
    "                      'criterion': ['gini','entropy'],\n",
    "                      'min_samples_split': [2,3,4,5],\n",
    "#                     'min_samples_leaf': [1,2,3],\n",
    "                      'max_features': ['auto', 1, 0.5]\n",
    "                     }\n",
    "                  ]\n",
    "\n",
    "tune_ADAparameters = [{'reduce_dim__k': kay,\n",
    "                       'classify__n_estimators': [2,5,50,100],\n",
    "                       'classify__algorithm': ['SAMME','SAMME.R'],\n",
    "                       'classify__learning_rate': [1, 0.5],\n",
    "                     }\n",
    "                  ]\n",
    "\n",
    "print(\"Parameter Tuning\\n\")\n",
    "\n",
    "clf = GridSearchCV(pipe3, tune_SVCparameters, cv=sss)\n",
    "clf.fit(features, labels)\n",
    "\n",
    "print(\"Best parameters set found on development set:\")\n",
    "print(clf.best_params_)\n",
    "print(\"\\nGrid scores on development set:\")\n",
    "\n",
    "for params, mean_score, scores in clf.grid_scores_:\n",
    "    print(\"%0.3f (+/-%0.03f) for %r\" % (mean_score, scores.std() * 2, params))\n",
    "print()\n",
    "\n",
    "print(\"Detailed classification report:\")\n",
    "print(\"The model is trained on the full development set.\")\n",
    "print(\"The scores are computed on the full evaluation set.\\n\")\n",
    "y_true, y_pred = labels_test, clf.predict(features_test)\n",
    "print(classification_report(y_true, y_pred))\n",
    "print()\n",
    "\n",
    "### Precision Recall AND F1 Metrics\n",
    "def prec_recall(model, pred, labels_test):\n",
    "    from sklearn.metrics import precision_score, recall_score, f1_score\n",
    "    y_true = labels_test\n",
    "    y_pred = pred\n",
    "    print model \n",
    "    print \"Precision:\", precision_score(y_true, y_pred)  \n",
    "    print \"Recall:\", recall_score(y_true, y_pred)  \n",
    "    print \"F1 Score:\", f1_score(y_true, y_pred)\n",
    "    \n",
    "    \n",
    "prec_recall(clf, y_pred, y_true)\n"
   ]
  },
  {
   "cell_type": "code",
   "execution_count": 258,
   "metadata": {
    "collapsed": false
   },
   "outputs": [],
   "source": [
    "## Make Classifier PCA() -> RandomForestClassifier()\n",
    "from sklearn.pipeline import make_pipeline\n",
    "clf2 = Pipeline([('reduce_dim', PCA(n_components = 9)),\n",
    "                 ('classifier', SVC(C=50, kernel = 'rbf', gamma = 'auto', random_state = 42)) \n",
    "                 #('classifier',  RandomForestClassifier(criterion='gini', max_features= 1,\n",
    "                  #                          min_samples_split=2, n_estimators=10))\n",
    "                    ])"
   ]
  },
  {
   "cell_type": "code",
   "execution_count": 259,
   "metadata": {
    "collapsed": false
   },
   "outputs": [
    {
     "name": "stdout",
     "output_type": "stream",
     "text": [
      "Testing score: 0.886363636364\n",
      "Pipeline(steps=[('reduce_dim', PCA(copy=True, iterated_power='auto', n_components=9, random_state=None,\n",
      "  svd_solver='auto', tol=0.0, whiten=False)), ('classifier', SVC(C=50, cache_size=200, class_weight=None, coef0=0.0,\n",
      "  decision_function_shape=None, degree=3, gamma='auto', kernel='rbf',\n",
      "  max_iter=-1, probability=False, random_state=42, shrinking=True,\n",
      "  tol=0.001, verbose=False))])\n",
      "Precision: 0.333333333333\n",
      "Recall: 0.25\n",
      "F1 Score: 0.285714285714\n"
     ]
    }
   ],
   "source": [
    "clf2 = clf2.fit(features_train, labels_train)\n",
    "print \"Testing score:\",clf2.score(features_test, labels_test)\n",
    "y_true, y_pred = labels_test, clf2.predict(features_test)\n",
    "prec_recall(clf2, y_pred, y_true)"
   ]
  },
  {
   "cell_type": "code",
   "execution_count": null,
   "metadata": {
    "collapsed": true
   },
   "outputs": [],
   "source": [
    "### Task 6: Dump your classifier, dataset, and features_list so anyone can\n",
    "### check your results. You do not need to change anything below, but make sure\n",
    "### that the version of poi_id.py that you submit can be run on its own and\n",
    "### generates the necessary .pkl files for validating your results.\n",
    "\n",
    "dump_classifier_and_data(clf, my_dataset, features_list)"
   ]
  }
 ],
 "metadata": {
  "anaconda-cloud": {},
  "kernelspec": {
   "display_name": "Python [Root]",
   "language": "python",
   "name": "Python [Root]"
  },
  "language_info": {
   "codemirror_mode": {
    "name": "ipython",
    "version": 2
   },
   "file_extension": ".py",
   "mimetype": "text/x-python",
   "name": "python",
   "nbconvert_exporter": "python",
   "pygments_lexer": "ipython2",
   "version": "2.7.12"
  }
 },
 "nbformat": 4,
 "nbformat_minor": 0
}
